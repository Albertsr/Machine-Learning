{
 "cells": [
  {
   "cell_type": "markdown",
   "metadata": {},
   "source": [
    "#### Author：马肖\n",
    "#### E-Mail：maxiaoscut@aliyun.com\n",
    "#### GitHub：https://github.com/Albertsr"
   ]
  },
  {
   "cell_type": "markdown",
   "metadata": {},
   "source": [
    "## 交叉验证"
   ]
  },
  {
   "cell_type": "markdown",
   "metadata": {},
   "source": [
    "- 在未设置验证集的情况下，根据模型在测试集上的表现持续优化模型参数，这一过程可能使得模型在测试集上存在过拟合，因为上述过程中测试集的知识可以“泄漏”到模型中，并且评估指标不再报告泛化性能。\n",
    "\n",
    "\n",
    "- 为了解决这个问题，数据集的某一部分可以作为验证集：模型训练完成以后，在验证集上对模型进行评估，当模型在验证集上性能较好时，最后在测试集上完成评估。\n",
    "\n",
    "\n",
    "- 然而，通过将原始数据分为3个数据集合就大大减少了可用于模型学习的样本数量，并且得到的结果依赖于集合对（训练，验证）的随机选择。解决这个问题的方法是做交叉验证(简称CV)。测试集仍应保留以供最终评估，但不再需要建立专属的验证集。\n",
    "\n",
    "\n",
    "- k-fold交叉验证过程如下：\n",
    "  - 训练集被不重复地划分（均分）为k份\n",
    "  - 将每个子集分别做一次验证集，其余的K-1组子集作为训练集，由此得到K个模型\n",
    "  - 上述K个模型的分类准确率的平均数作为此K-CV下分类器的性能指标"
   ]
  },
  {
   "cell_type": "code",
   "execution_count": 1,
   "metadata": {
    "collapsed": true
   },
   "outputs": [],
   "source": [
    "import numpy as np\n",
    "import pandas as pd\n",
    "pd.set_option(\"precision\",6)\n",
    "np.set_printoptions(precision=6)\n",
    "\n",
    "from sklearn import metrics\n",
    "from sklearn.datasets import load_breast_cancer\n",
    "from sklearn.model_selection import train_test_split\n",
    "from xgboost import XGBClassifier\n",
    "\n",
    "\n",
    "cancer = load_breast_cancer()\n",
    "X, y = load_breast_cancer(return_X_y=True)\n",
    "X_train, X_test, y_train, y_test = train_test_split(X, y, test_size=0.25, random_state=2018)\n",
    "clf_xgb = XGBClassifier().fit(X_train, y_train)"
   ]
  },
  {
   "cell_type": "markdown",
   "metadata": {},
   "source": [
    "### 1.1 cross_val_score返回模型交叉验证的分数，有助于准确了解模型的性能"
   ]
  },
  {
   "cell_type": "markdown",
   "metadata": {},
   "source": [
    "#### API\n",
    "model_selection.cross_val_score(estimator, X, y=None, groups=None, scoring=None, cv=None, n_jobs=1, verbose=0, fit_params=None, pre_dispatch=‘2*n_jobs’)\n",
    "\n",
    "参数scoring只能取单个值"
   ]
  },
  {
   "cell_type": "markdown",
   "metadata": {},
   "source": [
    "### 参数scoring\n",
    "#### 包含scoring参数的函数\n",
    "sklearn.model_selection.GridSearchCV\n",
    "\n",
    "sklearn.model_selection.RandomizedSearchCV\n",
    "\n",
    "sklearn.model_selection.cross_validate\n",
    "\n",
    "sklearn.model_selection.cross_val_score\n",
    "\n",
    "sklearn.model_selection.learning_curve\n",
    "\n",
    "sklearn.model_selection.validation_curve\n",
    "\n",
    "sklearn.model_selection.permutation_test_score\n",
    "\n",
    "#### scoring参数的取值\n",
    "http://scikit-learn.org/stable/modules/model_evaluation.html#scoring-parameter"
   ]
  },
  {
   "cell_type": "code",
   "execution_count": 2,
   "metadata": {},
   "outputs": [
    {
     "data": {
      "text/html": [
       "<div>\n",
       "<style scoped>\n",
       "    .dataframe tbody tr th:only-of-type {\n",
       "        vertical-align: middle;\n",
       "    }\n",
       "\n",
       "    .dataframe tbody tr th {\n",
       "        vertical-align: top;\n",
       "    }\n",
       "\n",
       "    .dataframe thead th {\n",
       "        text-align: right;\n",
       "    }\n",
       "</style>\n",
       "<table border=\"1\" class=\"dataframe\">\n",
       "  <thead>\n",
       "    <tr style=\"text-align: right;\">\n",
       "      <th></th>\n",
       "      <th>Score</th>\n",
       "    </tr>\n",
       "    <tr>\n",
       "      <th>Metrics</th>\n",
       "      <th></th>\n",
       "    </tr>\n",
       "  </thead>\n",
       "  <tbody>\n",
       "    <tr>\n",
       "      <th>accuracy</th>\n",
       "      <td>0.960 (+/- 0.016)</td>\n",
       "    </tr>\n",
       "    <tr>\n",
       "      <th>roc_auc</th>\n",
       "      <td>0.991 (+/- 0.013)</td>\n",
       "    </tr>\n",
       "    <tr>\n",
       "      <th>average_precision</th>\n",
       "      <td>0.994 (+/- 0.010)</td>\n",
       "    </tr>\n",
       "    <tr>\n",
       "      <th>f1</th>\n",
       "      <td>0.969 (+/- 0.012)</td>\n",
       "    </tr>\n",
       "  </tbody>\n",
       "</table>\n",
       "</div>"
      ],
      "text/plain": [
       "                               Score\n",
       "Metrics                             \n",
       "accuracy           0.960 (+/- 0.016)\n",
       "roc_auc            0.991 (+/- 0.013)\n",
       "average_precision  0.994 (+/- 0.010)\n",
       "f1                 0.969 (+/- 0.012)"
      ]
     },
     "execution_count": 2,
     "metadata": {},
     "output_type": "execute_result"
    }
   ],
   "source": [
    "from sklearn.model_selection import cross_val_score\n",
    "metric = [\"accuracy\", \"roc_auc\", \"average_precision\", \"f1\"]\n",
    "\n",
    "# 参数scoring只能取单个值\n",
    "scores = [cross_val_score(clf_xgb, X_train, y_train, scoring=i, cv=5) for i in metric]\n",
    "result = [(\"%0.3f (+/- %0.3f)\" % (i.mean(), i.std())) for i in scores]\n",
    "\n",
    "scores_df = pd.DataFrame(result, index=metric, columns=['Score'])\n",
    "scores_df.index.set_names(\"Metrics\", inplace=True)\n",
    "scores_df"
   ]
  },
  {
   "cell_type": "markdown",
   "metadata": {},
   "source": [
    "### 1.2 model_selection.cross_validate：返回模型的训练时长和分数信息"
   ]
  },
  {
   "cell_type": "markdown",
   "metadata": {},
   "source": [
    "#### API  \n",
    "model_selection.cross_validate(estimator, X, y=None, groups=None, scoring=None, cv=None, n_jobs=1, verbose=0, fit_params=None, pre_dispatch=‘2*n_jobs’, return_train_score=’warn’)\n",
    "\n",
    "##### 返回一个字典，包含以下信息\n",
    "1) test_score: The score array for test scores on each cv split.\n",
    "\n",
    "2) train_score: The score array for train scores on each cv split. This is available only if return_train_score parameter is True.\n",
    "\n",
    "3) fit_time: The time for fitting the estimator on the train set for each cv split.\n",
    "\n",
    "4) score_time: The time for scoring the estimator on the test set for each cv split. (注：return_train_score无论是否设置为True，都不会返回训练集的评分时间)"
   ]
  },
  {
   "cell_type": "code",
   "execution_count": 3,
   "metadata": {},
   "outputs": [
    {
     "data": {
      "text/plain": [
       "{'fit_time': array([ 0.080217,  0.048279,  0.068588]),\n",
       " 'score_time': array([ 0.005009,  0.01    ,  0.004011]),\n",
       " 'test_accuracy': array([ 0.93007 ,  0.950704,  0.950355]),\n",
       " 'test_average_precision': array([ 0.983104,  0.984866,  0.996406]),\n",
       " 'test_f1': array([ 0.943182,  0.961326,  0.961749]),\n",
       " 'test_roc_auc': array([ 0.97631 ,  0.980496,  0.993734]),\n",
       " 'train_accuracy': array([ 1.,  1.,  1.]),\n",
       " 'train_average_precision': array([ 1.,  1.,  1.]),\n",
       " 'train_f1': array([ 1.,  1.,  1.]),\n",
       " 'train_roc_auc': array([ 1.,  1.,  1.])}"
      ]
     },
     "execution_count": 3,
     "metadata": {},
     "output_type": "execute_result"
    }
   ],
   "source": [
    "# 参数scoring能取多个值，可用列表或元组形式输入\n",
    "from sklearn.model_selection import cross_validate\n",
    "scores = cross_validate(clf_xgb, X_train, y_train, scoring=metric, return_train_score=True)\n",
    "scores "
   ]
  },
  {
   "cell_type": "code",
   "execution_count": 4,
   "metadata": {},
   "outputs": [
    {
     "data": {
      "text/html": [
       "<div>\n",
       "<style scoped>\n",
       "    .dataframe tbody tr th:only-of-type {\n",
       "        vertical-align: middle;\n",
       "    }\n",
       "\n",
       "    .dataframe tbody tr th {\n",
       "        vertical-align: top;\n",
       "    }\n",
       "\n",
       "    .dataframe thead th {\n",
       "        text-align: right;\n",
       "    }\n",
       "</style>\n",
       "<table border=\"1\" class=\"dataframe\">\n",
       "  <thead>\n",
       "    <tr style=\"text-align: right;\">\n",
       "      <th></th>\n",
       "      <th>fit_time</th>\n",
       "      <th>score_time</th>\n",
       "      <th>test_accuracy</th>\n",
       "      <th>train_accuracy</th>\n",
       "      <th>test_roc_auc</th>\n",
       "      <th>train_roc_auc</th>\n",
       "      <th>test_average_precision</th>\n",
       "      <th>train_average_precision</th>\n",
       "      <th>test_f1</th>\n",
       "      <th>train_f1</th>\n",
       "    </tr>\n",
       "  </thead>\n",
       "  <tbody>\n",
       "    <tr>\n",
       "      <th>0</th>\n",
       "      <td>0.080217</td>\n",
       "      <td>0.005009</td>\n",
       "      <td>0.930070</td>\n",
       "      <td>1.0</td>\n",
       "      <td>0.976310</td>\n",
       "      <td>1.0</td>\n",
       "      <td>0.983104</td>\n",
       "      <td>1.0</td>\n",
       "      <td>0.943182</td>\n",
       "      <td>1.0</td>\n",
       "    </tr>\n",
       "    <tr>\n",
       "      <th>1</th>\n",
       "      <td>0.048279</td>\n",
       "      <td>0.010000</td>\n",
       "      <td>0.950704</td>\n",
       "      <td>1.0</td>\n",
       "      <td>0.980496</td>\n",
       "      <td>1.0</td>\n",
       "      <td>0.984866</td>\n",
       "      <td>1.0</td>\n",
       "      <td>0.961326</td>\n",
       "      <td>1.0</td>\n",
       "    </tr>\n",
       "    <tr>\n",
       "      <th>2</th>\n",
       "      <td>0.068588</td>\n",
       "      <td>0.004011</td>\n",
       "      <td>0.950355</td>\n",
       "      <td>1.0</td>\n",
       "      <td>0.993734</td>\n",
       "      <td>1.0</td>\n",
       "      <td>0.996406</td>\n",
       "      <td>1.0</td>\n",
       "      <td>0.961749</td>\n",
       "      <td>1.0</td>\n",
       "    </tr>\n",
       "  </tbody>\n",
       "</table>\n",
       "</div>"
      ],
      "text/plain": [
       "   fit_time  score_time  test_accuracy  train_accuracy  test_roc_auc  \\\n",
       "0  0.080217    0.005009       0.930070             1.0      0.976310   \n",
       "1  0.048279    0.010000       0.950704             1.0      0.980496   \n",
       "2  0.068588    0.004011       0.950355             1.0      0.993734   \n",
       "\n",
       "   train_roc_auc  test_average_precision  train_average_precision   test_f1  \\\n",
       "0            1.0                0.983104                      1.0  0.943182   \n",
       "1            1.0                0.984866                      1.0  0.961326   \n",
       "2            1.0                0.996406                      1.0  0.961749   \n",
       "\n",
       "   train_f1  \n",
       "0       1.0  \n",
       "1       1.0  \n",
       "2       1.0  "
      ]
     },
     "execution_count": 4,
     "metadata": {},
     "output_type": "execute_result"
    }
   ],
   "source": [
    "pd.DataFrame(scores)"
   ]
  },
  {
   "cell_type": "markdown",
   "metadata": {},
   "source": [
    "### 1.3 cross_val_predict:通过交叉验证获取预测值"
   ]
  },
  {
   "cell_type": "markdown",
   "metadata": {},
   "source": [
    "#### API\n",
    "- [cross_val_predict](https://scikit-learn.org/stable/modules/generated/sklearn.model_selection.cross_val_predict.html#sklearn.model_selection.cross_val_predict)\n",
    "\n",
    "- model_selection.cross_val_predict(estimator, X, y=None, groups=None, cv=None, n_jobs=1, verbose=0, fit_params=None, pre_dispatch=‘2*n_jobs’, method=’predict’)"
   ]
  },
  {
   "cell_type": "code",
   "execution_count": 5,
   "metadata": {},
   "outputs": [
    {
     "name": "stdout",
     "output_type": "stream",
     "text": [
      "Accuracy : 0.960\n"
     ]
    }
   ],
   "source": [
    "from sklearn.model_selection import cross_val_predict\n",
    "y_pred = cross_val_predict(clf_xgb, X_train, y_train, cv=5) \n",
    "acc = metrics.accuracy_score(y_train, y_pred)\n",
    "print(\"Accuracy : %.3f\" % acc)"
   ]
  },
  {
   "cell_type": "markdown",
   "metadata": {},
   "source": [
    "## 1.4 多种交叉验证"
   ]
  },
  {
   "cell_type": "markdown",
   "metadata": {},
   "source": [
    "#### 1.4.1 K-fold: K-折交叉验证"
   ]
  },
  {
   "cell_type": "code",
   "execution_count": 6,
   "metadata": {},
   "outputs": [
    {
     "name": "stdout",
     "output_type": "stream",
     "text": [
      "[2 3 4 5] [0 1]\n",
      "[0 1 4 5] [2 3]\n",
      "[0 1 2 3] [4 5]\n"
     ]
    }
   ],
   "source": [
    "from sklearn.model_selection import KFold\n",
    "\n",
    "X = [\"a\", \"b\", \"c\", \"d\",\"e\",\"f\"]\n",
    "\n",
    "#将X分为3份，2份作为训练集，剩余1份作为验证集\n",
    "kf = KFold(n_splits=3)  \n",
    "for train, test in kf.split(X):\n",
    "    print(\"%s %s\" % (train, test))"
   ]
  },
  {
   "cell_type": "markdown",
   "metadata": {},
   "source": [
    "#### 1.4.2 StratifiedKFold: 分层 k 折\n",
    "StratifiedKFold 是k-fold的变种,每个小集合中标签类别比例近似于完整训练集中的比例"
   ]
  },
  {
   "cell_type": "code",
   "execution_count": 7,
   "metadata": {
    "scrolled": true
   },
   "outputs": [
    {
     "name": "stdout",
     "output_type": "stream",
     "text": [
      "[2 3 6 7 8 9] [0 1 4 5]\n",
      "[0 1 3 4 5 8 9] [2 6 7]\n",
      "[0 1 2 4 5 6 7] [3 8 9]\n"
     ]
    }
   ],
   "source": [
    "from sklearn.model_selection import StratifiedKFold\n",
    "\n",
    "X = np.ones(10)\n",
    "y = [0, 0, 0, 0, 1, 1, 1, 1, 1, 1]\n",
    "skf = StratifiedKFold(n_splits=3)\n",
    "for train, test in skf.split(X, y):\n",
    "    print(\"%s %s\" % (train, test))"
   ]
  },
  {
   "cell_type": "markdown",
   "metadata": {},
   "source": [
    "#### 1.4.2 RepeatedKFold:重复 K-折交叉验证"
   ]
  },
  {
   "cell_type": "code",
   "execution_count": 8,
   "metadata": {},
   "outputs": [
    {
     "name": "stdout",
     "output_type": "stream",
     "text": [
      "[1 2] [0 3]\n",
      "[0 3] [1 2]\n",
      "[0 2] [1 3]\n",
      "[1 3] [0 2]\n",
      "[1 2] [0 3]\n",
      "[0 3] [1 2]\n"
     ]
    }
   ],
   "source": [
    "from sklearn.model_selection import RepeatedKFold\n",
    "X = np.array([[1, 2], [3, 4], [1, 2], [3, 4]])\n",
    "\n",
    "rkf = RepeatedKFold(n_splits=2, n_repeats=3, random_state=123)\n",
    "for train, test in rkf.split(X):\n",
    "    print(\"%s %s\" % (train, test))"
   ]
  },
  {
   "cell_type": "markdown",
   "metadata": {},
   "source": [
    "#### 1.4.3 留一交叉验证 (LOO)"
   ]
  },
  {
   "cell_type": "code",
   "execution_count": 9,
   "metadata": {
    "scrolled": true
   },
   "outputs": [
    {
     "name": "stdout",
     "output_type": "stream",
     "text": [
      "[1 2 3] [0]\n",
      "[0 2 3] [1]\n",
      "[0 1 3] [2]\n",
      "[0 1 2] [3]\n"
     ]
    }
   ],
   "source": [
    "# 只留一个样本作为验证集\n",
    "from sklearn.model_selection import LeaveOneOut\n",
    "\n",
    "X = [1, 2, 3, 4]\n",
    "loo = LeaveOneOut()\n",
    "for train, test in loo.split(X):\n",
    "    print(\"%s %s\" % (train, test))"
   ]
  },
  {
   "cell_type": "markdown",
   "metadata": {
    "collapsed": true
   },
   "source": [
    "#### 1.4.4 理解model_selection.ShuffleSplit"
   ]
  },
  {
   "cell_type": "markdown",
   "metadata": {},
   "source": [
    "##### Class sklearn.model_selection.ShuffleSplit(n_splits=10, test_size=’default’, train_size=None, random_state=None)"
   ]
  },
  {
   "cell_type": "markdown",
   "metadata": {},
   "source": [
    "##### 类的方法：split(X, y=None, groups=None)：返回训练集和测试集在被划分数据集X中的索引"
   ]
  },
  {
   "cell_type": "code",
   "execution_count": 10,
   "metadata": {},
   "outputs": [
    {
     "name": "stdout",
     "output_type": "stream",
     "text": [
      "(426,) 568 0\n",
      "(143,) 567 1\n",
      "**********************\n",
      "(426,) 568 0\n",
      "(143,) 567 1\n",
      "**********************\n",
      "(426,) 568 0\n",
      "(143,) 566 3\n",
      "**********************\n"
     ]
    }
   ],
   "source": [
    "from sklearn.model_selection import ShuffleSplit\n",
    "\n",
    "\n",
    "X, y = load_breast_cancer(return_X_y=True)\n",
    "rs = ShuffleSplit(n_splits=3, test_size=.25, random_state=0)\n",
    "for train_index, test_index in rs.split(X, y):\n",
    "    print(train_index.shape, train_index.max(), train_index.min()) \n",
    "    print(test_index.shape, test_index.max(), test_index.min()) \n",
    "    print(\"**********************\")"
   ]
  },
  {
   "cell_type": "markdown",
   "metadata": {},
   "source": [
    "##### 将ShuffleSplit类作为cross_val_score中的cv参数"
   ]
  },
  {
   "cell_type": "code",
   "execution_count": 11,
   "metadata": {},
   "outputs": [
    {
     "data": {
      "text/plain": [
       "array([ 0.9375  ,  0.953125,  0.96875 ,  0.953125,  0.960938])"
      ]
     },
     "execution_count": 11,
     "metadata": {},
     "output_type": "execute_result"
    }
   ],
   "source": [
    "# cv=rs不是指将数据集划分为n_splits等份，而是根据ShuffleSplit函数中的参数test_size来划分n_splits份数据\n",
    "rs = ShuffleSplit(n_splits=5, test_size=0.3, random_state=0)\n",
    "cross_val_score(clf_xgb, X_train, y_train, cv=rs)"
   ]
  }
 ],
 "metadata": {
  "kernelspec": {
   "display_name": "Python 3",
   "language": "python",
   "name": "python3"
  },
  "language_info": {
   "codemirror_mode": {
    "name": "ipython",
    "version": 3
   },
   "file_extension": ".py",
   "mimetype": "text/x-python",
   "name": "python",
   "nbconvert_exporter": "python",
   "pygments_lexer": "ipython3",
   "version": "3.7.1"
  }
 },
 "nbformat": 4,
 "nbformat_minor": 2
}
