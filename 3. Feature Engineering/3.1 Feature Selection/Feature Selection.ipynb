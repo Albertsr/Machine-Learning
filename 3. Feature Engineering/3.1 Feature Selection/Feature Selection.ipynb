{
 "cells": [
  {
   "cell_type": "markdown",
   "metadata": {},
   "source": [
    "## 1. Fillter (过滤型)"
   ]
  },
  {
   "cell_type": "markdown",
   "metadata": {},
   "source": [
    "#### 1) Fillter方法运用相关性等指标对单个特征进行评分，评分高的特征优先被选择。\n",
    "\n",
    "#### 2) Fillter方法选择过程独立于学习器，筛选出的特征对于模型泛化能力来说不一定是最优特征\n",
    "\n",
    "#### 3) Fillter方法通过单变量统计来获取特征的内在属性，不考虑变量之间的关系\n",
    "\n",
    "#### 4)  优缺点\n",
    "- 优点：算法的通用性强，算法复杂度低，适用于大规模数据集；可快速去除大量不相关的特征，适合作为特征的预筛选器\n",
    "- 缺点：倾向于选择冗余变量，因为它们不考虑变量之间的关系。\n",
    "\n",
    "#### 5) 过滤型方法实例\n",
    "- 无监督方法：方差阈\n",
    "- 分类问题：卡方检验、mutual_info_classif、f_classif、信息增益\n",
    "- 回归问题：相关系数、mutual_info_regression、f_regression"
   ]
  },
  {
   "cell_type": "code",
   "execution_count": 1,
   "metadata": {},
   "outputs": [],
   "source": [
    "import numpy as np  \n",
    "import pandas as pd\n",
    "from sklearn.datasets import load_iris, load_boston, load_wine\n",
    "from sklearn.feature_selection import *\n",
    "\n",
    "rg = np.random.RandomState(2017)\n",
    "\n",
    "row = 2500\n",
    "X_reg = rg.randn(row, 4) \n",
    "name_reg = ['X0', 'X1', 'X2', 'X3']\n",
    "y_reg = X_reg[:, 0] + np.sin(1.5*np.pi*X_reg[:, 1]) + np.cos(np.pi*X_reg[:, 2]) + np.tanh(np.pi*X_reg[:, 3])\n",
    "\n",
    "def highlight(s):\n",
    "    is_max = s == s.max()\n",
    "    return ['color: red' if v else '' for v in is_max]"
   ]
  },
  {
   "cell_type": "markdown",
   "metadata": {},
   "source": [
    "### 1.1 设置方差阈Variance Treshhold，移除方差低于阈值的特征，属于无监督方法"
   ]
  },
  {
   "cell_type": "code",
   "execution_count": 2,
   "metadata": {},
   "outputs": [
    {
     "name": "stdout",
     "output_type": "stream",
     "text": [
      "shape:(506, 13)--->shape:(506, 6)\n"
     ]
    }
   ],
   "source": [
    "from sklearn.preprocessing import StandardScaler\n",
    "\n",
    "scaler = StandardScaler()\n",
    "X, y = load_boston(return_X_y=True)\n",
    "X_scaled = scaler.fit_transform(X)\n",
    "sel = VarianceThreshold(threshold=1)\n",
    "X_sel = sel.fit_transform(X_scaled)\n",
    "print('shape:{:}--->shape:{:}'.format(X_scaled.shape, X_sel.shape))"
   ]
  },
  {
   "cell_type": "markdown",
   "metadata": {},
   "source": [
    "### 1.2 卡方(Chi2)检验\n",
    "- 只能用于非负特征、分类问题\n",
    "- 卡方检验可用于检测非负特征与分类标签列的独立性，卡方统计量越大，两者越可能相互独立"
   ]
  },
  {
   "cell_type": "code",
   "execution_count": 3,
   "metadata": {},
   "outputs": [
    {
     "data": {
      "text/html": [
       "<style  type=\"text/css\" >\n",
       "    #T_3fe00508_d77b_11e8_b9a0_54e1ad990481row0_col1 {\n",
       "            color:  red;\n",
       "        }    #T_3fe00508_d77b_11e8_b9a0_54e1ad990481row1_col1 {\n",
       "            color:  red;\n",
       "        }    #T_3fe00508_d77b_11e8_b9a0_54e1ad990481row2_col1 {\n",
       "            color:  red;\n",
       "        }</style>  \n",
       "<table id=\"T_3fe00508_d77b_11e8_b9a0_54e1ad990481\" > \n",
       "<thead>    <tr> \n",
       "        <th class=\"blank level0\" ></th> \n",
       "        <th class=\"col_heading level0 col0\" >Chi2</th> \n",
       "        <th class=\"col_heading level0 col1\" >Is_Support</th> \n",
       "    </tr></thead> \n",
       "<tbody>    <tr> \n",
       "        <th id=\"T_3fe00508_d77b_11e8_b9a0_54e1ad990481level0_row0\" class=\"row_heading level0 row0\" >Petal Length</th> \n",
       "        <td id=\"T_3fe00508_d77b_11e8_b9a0_54e1ad990481row0_col0\" class=\"data row0 col0\" >116.313</td> \n",
       "        <td id=\"T_3fe00508_d77b_11e8_b9a0_54e1ad990481row0_col1\" class=\"data row0 col1\" >True</td> \n",
       "    </tr>    <tr> \n",
       "        <th id=\"T_3fe00508_d77b_11e8_b9a0_54e1ad990481level0_row1\" class=\"row_heading level0 row1\" >Petal Width</th> \n",
       "        <td id=\"T_3fe00508_d77b_11e8_b9a0_54e1ad990481row1_col0\" class=\"data row1 col0\" >67.0484</td> \n",
       "        <td id=\"T_3fe00508_d77b_11e8_b9a0_54e1ad990481row1_col1\" class=\"data row1 col1\" >True</td> \n",
       "    </tr>    <tr> \n",
       "        <th id=\"T_3fe00508_d77b_11e8_b9a0_54e1ad990481level0_row2\" class=\"row_heading level0 row2\" >Sepal Length</th> \n",
       "        <td id=\"T_3fe00508_d77b_11e8_b9a0_54e1ad990481row2_col0\" class=\"data row2 col0\" >10.8178</td> \n",
       "        <td id=\"T_3fe00508_d77b_11e8_b9a0_54e1ad990481row2_col1\" class=\"data row2 col1\" >True</td> \n",
       "    </tr>    <tr> \n",
       "        <th id=\"T_3fe00508_d77b_11e8_b9a0_54e1ad990481level0_row3\" class=\"row_heading level0 row3\" >Sepal Width</th> \n",
       "        <td id=\"T_3fe00508_d77b_11e8_b9a0_54e1ad990481row3_col0\" class=\"data row3 col0\" >3.71073</td> \n",
       "        <td id=\"T_3fe00508_d77b_11e8_b9a0_54e1ad990481row3_col1\" class=\"data row3 col1\" >False</td> \n",
       "    </tr></tbody> \n",
       "</table> "
      ],
      "text/plain": [
       "<pandas.io.formats.style.Styler at 0x299831e2b00>"
      ]
     },
     "execution_count": 3,
     "metadata": {},
     "output_type": "execute_result"
    }
   ],
   "source": [
    "iris = load_iris()\n",
    "X, y = load_iris(return_X_y=True) \n",
    "iris_name = [i.replace(' (cm)', '').title() for i in iris.feature_names]\n",
    "gus = GenericUnivariateSelect(score_func=chi2, mode='k_best', param=3)\n",
    "gus.fit(X, y)\n",
    "\n",
    "chi2_dict = {'Chi2':gus.scores_, 'Is_Support':gus.get_support()}\n",
    "select_result = pd.DataFrame(chi2_dict, index=iris_name).sort_values(['Chi2'], ascending=False) \n",
    "select_result.style.apply(highlight, subset=['Is_Support'])"
   ]
  },
  {
   "cell_type": "markdown",
   "metadata": {},
   "source": [
    "### 1.3 Mutual information\n",
    "- 能捕捉变量之间任何线性或非线性关系\n",
    "- 其值越大表明变量之间的依赖性越强"
   ]
  },
  {
   "cell_type": "markdown",
   "metadata": {},
   "source": [
    "####  mutual_info_classif：分类问题"
   ]
  },
  {
   "cell_type": "code",
   "execution_count": 4,
   "metadata": {},
   "outputs": [
    {
     "data": {
      "text/html": [
       "<style  type=\"text/css\" >\n",
       "    #T_3fea15ee_d77b_11e8_acfe_54e1ad990481row0_col1 {\n",
       "            color:  red;\n",
       "        }    #T_3fea15ee_d77b_11e8_acfe_54e1ad990481row1_col1 {\n",
       "            color:  red;\n",
       "        }    #T_3fea15ee_d77b_11e8_acfe_54e1ad990481row2_col1 {\n",
       "            color:  red;\n",
       "        }</style>  \n",
       "<table id=\"T_3fea15ee_d77b_11e8_acfe_54e1ad990481\" > \n",
       "<thead>    <tr> \n",
       "        <th class=\"blank level0\" ></th> \n",
       "        <th class=\"col_heading level0 col0\" >Mutual_Info_Clf</th> \n",
       "        <th class=\"col_heading level0 col1\" >Is_Support</th> \n",
       "    </tr></thead> \n",
       "<tbody>    <tr> \n",
       "        <th id=\"T_3fea15ee_d77b_11e8_acfe_54e1ad990481level0_row0\" class=\"row_heading level0 row0\" >Petal Length</th> \n",
       "        <td id=\"T_3fea15ee_d77b_11e8_acfe_54e1ad990481row0_col0\" class=\"data row0 col0\" >0.992963</td> \n",
       "        <td id=\"T_3fea15ee_d77b_11e8_acfe_54e1ad990481row0_col1\" class=\"data row0 col1\" >True</td> \n",
       "    </tr>    <tr> \n",
       "        <th id=\"T_3fea15ee_d77b_11e8_acfe_54e1ad990481level0_row1\" class=\"row_heading level0 row1\" >Petal Width</th> \n",
       "        <td id=\"T_3fea15ee_d77b_11e8_acfe_54e1ad990481row1_col0\" class=\"data row1 col0\" >0.98392</td> \n",
       "        <td id=\"T_3fea15ee_d77b_11e8_acfe_54e1ad990481row1_col1\" class=\"data row1 col1\" >True</td> \n",
       "    </tr>    <tr> \n",
       "        <th id=\"T_3fea15ee_d77b_11e8_acfe_54e1ad990481level0_row2\" class=\"row_heading level0 row2\" >Sepal Length</th> \n",
       "        <td id=\"T_3fea15ee_d77b_11e8_acfe_54e1ad990481row2_col0\" class=\"data row2 col0\" >0.499915</td> \n",
       "        <td id=\"T_3fea15ee_d77b_11e8_acfe_54e1ad990481row2_col1\" class=\"data row2 col1\" >True</td> \n",
       "    </tr>    <tr> \n",
       "        <th id=\"T_3fea15ee_d77b_11e8_acfe_54e1ad990481level0_row3\" class=\"row_heading level0 row3\" >Sepal Width</th> \n",
       "        <td id=\"T_3fea15ee_d77b_11e8_acfe_54e1ad990481row3_col0\" class=\"data row3 col0\" >0.276717</td> \n",
       "        <td id=\"T_3fea15ee_d77b_11e8_acfe_54e1ad990481row3_col1\" class=\"data row3 col1\" >False</td> \n",
       "    </tr></tbody> \n",
       "</table> "
      ],
      "text/plain": [
       "<pandas.io.formats.style.Styler at 0x2998aaeebe0>"
      ]
     },
     "execution_count": 4,
     "metadata": {},
     "output_type": "execute_result"
    }
   ],
   "source": [
    "X, y = load_iris(return_X_y=True)\n",
    "gus = GenericUnivariateSelect(mutual_info_classif, mode='k_best', param=3)\n",
    "gus.fit(X, y)\n",
    "\n",
    "dict_ = {'Mutual_Info_Clf':gus.scores_, 'Is_Support':gus.get_support()}\n",
    "select_result = pd.DataFrame(dict_, index=iris_name).sort_values(['Mutual_Info_Clf'], ascending=False) \n",
    "select_result.style.apply(highlight, subset=['Is_Support'])"
   ]
  },
  {
   "cell_type": "markdown",
   "metadata": {},
   "source": [
    "#### mutual_info_regression：回归问题"
   ]
  },
  {
   "cell_type": "code",
   "execution_count": 5,
   "metadata": {},
   "outputs": [
    {
     "data": {
      "text/html": [
       "<style  type=\"text/css\" >\n",
       "    #T_40058f00_d77b_11e8_aa8c_54e1ad990481row0_col1 {\n",
       "            color:  red;\n",
       "        }    #T_40058f00_d77b_11e8_aa8c_54e1ad990481row1_col1 {\n",
       "            color:  red;\n",
       "        }    #T_40058f00_d77b_11e8_aa8c_54e1ad990481row2_col1 {\n",
       "            color:  red;\n",
       "        }</style>  \n",
       "<table id=\"T_40058f00_d77b_11e8_aa8c_54e1ad990481\" > \n",
       "<thead>    <tr> \n",
       "        <th class=\"blank level0\" ></th> \n",
       "        <th class=\"col_heading level0 col0\" >Mutual_Info_Reg</th> \n",
       "        <th class=\"col_heading level0 col1\" >Is_Support</th> \n",
       "    </tr></thead> \n",
       "<tbody>    <tr> \n",
       "        <th id=\"T_40058f00_d77b_11e8_aa8c_54e1ad990481level0_row0\" class=\"row_heading level0 row0\" >X0</th> \n",
       "        <td id=\"T_40058f00_d77b_11e8_aa8c_54e1ad990481row0_col0\" class=\"data row0 col0\" >0.250728</td> \n",
       "        <td id=\"T_40058f00_d77b_11e8_aa8c_54e1ad990481row0_col1\" class=\"data row0 col1\" >True</td> \n",
       "    </tr>    <tr> \n",
       "        <th id=\"T_40058f00_d77b_11e8_aa8c_54e1ad990481level0_row1\" class=\"row_heading level0 row1\" >X3</th> \n",
       "        <td id=\"T_40058f00_d77b_11e8_aa8c_54e1ad990481row1_col0\" class=\"data row1 col0\" >0.164805</td> \n",
       "        <td id=\"T_40058f00_d77b_11e8_aa8c_54e1ad990481row1_col1\" class=\"data row1 col1\" >True</td> \n",
       "    </tr>    <tr> \n",
       "        <th id=\"T_40058f00_d77b_11e8_aa8c_54e1ad990481level0_row2\" class=\"row_heading level0 row2\" >X2</th> \n",
       "        <td id=\"T_40058f00_d77b_11e8_aa8c_54e1ad990481row2_col0\" class=\"data row2 col0\" >0.112816</td> \n",
       "        <td id=\"T_40058f00_d77b_11e8_aa8c_54e1ad990481row2_col1\" class=\"data row2 col1\" >True</td> \n",
       "    </tr>    <tr> \n",
       "        <th id=\"T_40058f00_d77b_11e8_aa8c_54e1ad990481level0_row3\" class=\"row_heading level0 row3\" >X1</th> \n",
       "        <td id=\"T_40058f00_d77b_11e8_aa8c_54e1ad990481row3_col0\" class=\"data row3 col0\" >0.0968116</td> \n",
       "        <td id=\"T_40058f00_d77b_11e8_aa8c_54e1ad990481row3_col1\" class=\"data row3 col1\" >False</td> \n",
       "    </tr></tbody> \n",
       "</table> "
      ],
      "text/plain": [
       "<pandas.io.formats.style.Styler at 0x2998aaeec50>"
      ]
     },
     "execution_count": 5,
     "metadata": {},
     "output_type": "execute_result"
    }
   ],
   "source": [
    "gus = GenericUnivariateSelect(mutual_info_regression, mode='k_best', param=3)\n",
    "gus.fit(X_reg, y_reg)\n",
    "\n",
    "dict_ = {'Mutual_Info_Reg':gus.scores_, 'Is_Support':gus.get_support()}\n",
    "select_result = pd.DataFrame(dict_, index=name_reg).sort_values(['Mutual_Info_Reg'], ascending=False) \n",
    "select_result.style.apply(highlight, subset=['Is_Support'])"
   ]
  },
  {
   "cell_type": "markdown",
   "metadata": {},
   "source": [
    "### 1.4 F检验：只能衡量线性关系"
   ]
  },
  {
   "cell_type": "markdown",
   "metadata": {},
   "source": [
    "#### 分类问题：sklearn.feature_selection.f_classif(X, y)"
   ]
  },
  {
   "cell_type": "code",
   "execution_count": 6,
   "metadata": {},
   "outputs": [
    {
     "data": {
      "text/html": [
       "<style  type=\"text/css\" >\n",
       "    #T_40097e7a_d77b_11e8_88f3_54e1ad990481row0_col1 {\n",
       "            color:  red;\n",
       "        }    #T_40097e7a_d77b_11e8_88f3_54e1ad990481row1_col1 {\n",
       "            color:  red;\n",
       "        }    #T_40097e7a_d77b_11e8_88f3_54e1ad990481row2_col1 {\n",
       "            color:  red;\n",
       "        }</style>  \n",
       "<table id=\"T_40097e7a_d77b_11e8_88f3_54e1ad990481\" > \n",
       "<thead>    <tr> \n",
       "        <th class=\"blank level0\" ></th> \n",
       "        <th class=\"col_heading level0 col0\" >f_classif</th> \n",
       "        <th class=\"col_heading level0 col1\" >Is_Support</th> \n",
       "    </tr></thead> \n",
       "<tbody>    <tr> \n",
       "        <th id=\"T_40097e7a_d77b_11e8_88f3_54e1ad990481level0_row0\" class=\"row_heading level0 row0\" >Petal Length</th> \n",
       "        <td id=\"T_40097e7a_d77b_11e8_88f3_54e1ad990481row0_col0\" class=\"data row0 col0\" >1180.16</td> \n",
       "        <td id=\"T_40097e7a_d77b_11e8_88f3_54e1ad990481row0_col1\" class=\"data row0 col1\" >True</td> \n",
       "    </tr>    <tr> \n",
       "        <th id=\"T_40097e7a_d77b_11e8_88f3_54e1ad990481level0_row1\" class=\"row_heading level0 row1\" >Petal Width</th> \n",
       "        <td id=\"T_40097e7a_d77b_11e8_88f3_54e1ad990481row1_col0\" class=\"data row1 col0\" >960.007</td> \n",
       "        <td id=\"T_40097e7a_d77b_11e8_88f3_54e1ad990481row1_col1\" class=\"data row1 col1\" >True</td> \n",
       "    </tr>    <tr> \n",
       "        <th id=\"T_40097e7a_d77b_11e8_88f3_54e1ad990481level0_row2\" class=\"row_heading level0 row2\" >Sepal Length</th> \n",
       "        <td id=\"T_40097e7a_d77b_11e8_88f3_54e1ad990481row2_col0\" class=\"data row2 col0\" >119.265</td> \n",
       "        <td id=\"T_40097e7a_d77b_11e8_88f3_54e1ad990481row2_col1\" class=\"data row2 col1\" >True</td> \n",
       "    </tr>    <tr> \n",
       "        <th id=\"T_40097e7a_d77b_11e8_88f3_54e1ad990481level0_row3\" class=\"row_heading level0 row3\" >Sepal Width</th> \n",
       "        <td id=\"T_40097e7a_d77b_11e8_88f3_54e1ad990481row3_col0\" class=\"data row3 col0\" >49.16</td> \n",
       "        <td id=\"T_40097e7a_d77b_11e8_88f3_54e1ad990481row3_col1\" class=\"data row3 col1\" >False</td> \n",
       "    </tr></tbody> \n",
       "</table> "
      ],
      "text/plain": [
       "<pandas.io.formats.style.Styler at 0x29983fba048>"
      ]
     },
     "execution_count": 6,
     "metadata": {},
     "output_type": "execute_result"
    }
   ],
   "source": [
    "gus = GenericUnivariateSelect(f_classif, mode='k_best', param=3)\n",
    "X, y = load_iris(return_X_y=True)\n",
    "gus.fit(X, y)\n",
    "\n",
    "dict_ = {'f_classif':gus.scores_, 'Is_Support':gus.get_support()}\n",
    "select_result = pd.DataFrame(dict_, index=iris_name).sort_values(['f_classif'], ascending=False) \n",
    "select_result.style.apply(highlight, subset=['Is_Support'])"
   ]
  },
  {
   "cell_type": "markdown",
   "metadata": {},
   "source": [
    "#### 回归问题：sklearn.feature_selection.f_regression(X, y, center=True)"
   ]
  },
  {
   "cell_type": "code",
   "execution_count": 7,
   "metadata": {
    "scrolled": true
   },
   "outputs": [
    {
     "data": {
      "text/html": [
       "<style  type=\"text/css\" >\n",
       "    #T_400dbb86_d77b_11e8_9ceb_54e1ad990481row0_col1 {\n",
       "            color:  red;\n",
       "        }    #T_400dbb86_d77b_11e8_9ceb_54e1ad990481row1_col1 {\n",
       "            color:  red;\n",
       "        }    #T_400dbb86_d77b_11e8_9ceb_54e1ad990481row2_col1 {\n",
       "            color:  red;\n",
       "        }</style>  \n",
       "<table id=\"T_400dbb86_d77b_11e8_9ceb_54e1ad990481\" > \n",
       "<thead>    <tr> \n",
       "        <th class=\"blank level0\" ></th> \n",
       "        <th class=\"col_heading level0 col0\" >f_regression</th> \n",
       "        <th class=\"col_heading level0 col1\" >Is_Support</th> \n",
       "    </tr></thead> \n",
       "<tbody>    <tr> \n",
       "        <th id=\"T_400dbb86_d77b_11e8_9ceb_54e1ad990481level0_row0\" class=\"row_heading level0 row0\" >X0</th> \n",
       "        <td id=\"T_400dbb86_d77b_11e8_9ceb_54e1ad990481row0_col0\" class=\"data row0 col0\" >1411.25</td> \n",
       "        <td id=\"T_400dbb86_d77b_11e8_9ceb_54e1ad990481row0_col1\" class=\"data row0 col1\" >True</td> \n",
       "    </tr>    <tr> \n",
       "        <th id=\"T_400dbb86_d77b_11e8_9ceb_54e1ad990481level0_row1\" class=\"row_heading level0 row1\" >X3</th> \n",
       "        <td id=\"T_400dbb86_d77b_11e8_9ceb_54e1ad990481row1_col0\" class=\"data row1 col0\" >705.047</td> \n",
       "        <td id=\"T_400dbb86_d77b_11e8_9ceb_54e1ad990481row1_col1\" class=\"data row1 col1\" >True</td> \n",
       "    </tr>    <tr> \n",
       "        <th id=\"T_400dbb86_d77b_11e8_9ceb_54e1ad990481level0_row2\" class=\"row_heading level0 row2\" >X1</th> \n",
       "        <td id=\"T_400dbb86_d77b_11e8_9ceb_54e1ad990481row2_col0\" class=\"data row2 col0\" >1.09176</td> \n",
       "        <td id=\"T_400dbb86_d77b_11e8_9ceb_54e1ad990481row2_col1\" class=\"data row2 col1\" >True</td> \n",
       "    </tr>    <tr> \n",
       "        <th id=\"T_400dbb86_d77b_11e8_9ceb_54e1ad990481level0_row3\" class=\"row_heading level0 row3\" >X2</th> \n",
       "        <td id=\"T_400dbb86_d77b_11e8_9ceb_54e1ad990481row3_col0\" class=\"data row3 col0\" >0.656064</td> \n",
       "        <td id=\"T_400dbb86_d77b_11e8_9ceb_54e1ad990481row3_col1\" class=\"data row3 col1\" >False</td> \n",
       "    </tr></tbody> \n",
       "</table> "
      ],
      "text/plain": [
       "<pandas.io.formats.style.Styler at 0x2998ab005f8>"
      ]
     },
     "execution_count": 7,
     "metadata": {},
     "output_type": "execute_result"
    }
   ],
   "source": [
    "from sklearn.feature_selection import f_regression\n",
    "gus = GenericUnivariateSelect(f_regression, mode='k_best', param=3)\n",
    "gus.fit(X_reg, y_reg)\n",
    "\n",
    "dict_ = {'f_regression':gus.scores_, 'Is_Support':gus.get_support()}\n",
    "select_result = pd.DataFrame(dict_, index=name_reg).sort_values(['f_regression'], ascending=False) \n",
    "select_result.style.apply(highlight, subset=['Is_Support'])"
   ]
  },
  {
   "cell_type": "markdown",
   "metadata": {},
   "source": [
    "### 1.5 Pearson相关系数：衡量两变量之间的线性关系，对非线性关系不敏感"
   ]
  },
  {
   "cell_type": "code",
   "execution_count": 8,
   "metadata": {},
   "outputs": [
    {
     "data": {
      "text/plain": [
       "[0.783, -0.427, 0.949, 0.957]"
      ]
     },
     "execution_count": 8,
     "metadata": {},
     "output_type": "execute_result"
    }
   ],
   "source": [
    "from scipy.stats import pearsonr  \n",
    "X, y = load_iris(return_X_y=True)\n",
    "[float(\"%.3f\" % pearsonr(X[:, i], y)[0]) for i in range(X.shape[1])]"
   ]
  },
  {
   "cell_type": "markdown",
   "metadata": {},
   "source": [
    "#### Person相关系数的缺点：对线性关系敏感。对于非线性关系，即使两个变量具有一一对应的关系，Pearson相关性也可能会接近0"
   ]
  },
  {
   "cell_type": "code",
   "execution_count": 9,
   "metadata": {},
   "outputs": [
    {
     "name": "stdout",
     "output_type": "stream",
     "text": [
      "Pearsonr_corr: [-0.13183, 0.124542, -0.09401]\n"
     ]
    }
   ],
   "source": [
    "x = rg.uniform(-5, 5, 100)  \n",
    "y = [x**2, np.sin(abs(x)), np.log1p(abs(x))]\n",
    "corr = [float('{:.6f}'.format(pearsonr(x, i)[0])) for i in y]\n",
    "print(\"Pearsonr_corr:\", corr)"
   ]
  },
  {
   "cell_type": "markdown",
   "metadata": {},
   "source": [
    "### 1.6 各评价标准的对比"
   ]
  },
  {
   "cell_type": "markdown",
   "metadata": {},
   "source": [
    "#### 在wine数据集上的对比"
   ]
  },
  {
   "cell_type": "code",
   "execution_count": 10,
   "metadata": {},
   "outputs": [
    {
     "data": {
      "text/html": [
       "<style  type=\"text/css\" >\n",
       "    #T_402ee1b4_d77b_11e8_850d_54e1ad990481row0_col0 {\n",
       "            color:  red;\n",
       "        }    #T_402ee1b4_d77b_11e8_850d_54e1ad990481row0_col1 {\n",
       "            color:  red;\n",
       "        }    #T_402ee1b4_d77b_11e8_850d_54e1ad990481row0_col2 {\n",
       "            color:  red;\n",
       "        }    #T_402ee1b4_d77b_11e8_850d_54e1ad990481row1_col0 {\n",
       "            color:  red;\n",
       "        }    #T_402ee1b4_d77b_11e8_850d_54e1ad990481row1_col1 {\n",
       "            color:  red;\n",
       "        }    #T_402ee1b4_d77b_11e8_850d_54e1ad990481row1_col2 {\n",
       "            color:  red;\n",
       "        }    #T_402ee1b4_d77b_11e8_850d_54e1ad990481row2_col0 {\n",
       "            color:  red;\n",
       "        }    #T_402ee1b4_d77b_11e8_850d_54e1ad990481row2_col1 {\n",
       "            color:  red;\n",
       "        }    #T_402ee1b4_d77b_11e8_850d_54e1ad990481row2_col2 {\n",
       "            color:  red;\n",
       "        }    #T_402ee1b4_d77b_11e8_850d_54e1ad990481row3_col0 {\n",
       "            color:  red;\n",
       "        }    #T_402ee1b4_d77b_11e8_850d_54e1ad990481row4_col0 {\n",
       "            color:  red;\n",
       "        }    #T_402ee1b4_d77b_11e8_850d_54e1ad990481row4_col1 {\n",
       "            color:  red;\n",
       "        }    #T_402ee1b4_d77b_11e8_850d_54e1ad990481row4_col2 {\n",
       "            color:  red;\n",
       "        }    #T_402ee1b4_d77b_11e8_850d_54e1ad990481row5_col0 {\n",
       "            color:  red;\n",
       "        }    #T_402ee1b4_d77b_11e8_850d_54e1ad990481row5_col1 {\n",
       "            color:  red;\n",
       "        }    #T_402ee1b4_d77b_11e8_850d_54e1ad990481row5_col2 {\n",
       "            color:  red;\n",
       "        }    #T_402ee1b4_d77b_11e8_850d_54e1ad990481row6_col0 {\n",
       "            color:  red;\n",
       "        }    #T_402ee1b4_d77b_11e8_850d_54e1ad990481row6_col1 {\n",
       "            color:  red;\n",
       "        }    #T_402ee1b4_d77b_11e8_850d_54e1ad990481row6_col2 {\n",
       "            color:  red;\n",
       "        }    #T_402ee1b4_d77b_11e8_850d_54e1ad990481row7_col0 {\n",
       "            color:  red;\n",
       "        }    #T_402ee1b4_d77b_11e8_850d_54e1ad990481row7_col1 {\n",
       "            color:  red;\n",
       "        }    #T_402ee1b4_d77b_11e8_850d_54e1ad990481row7_col2 {\n",
       "            color:  red;\n",
       "        }    #T_402ee1b4_d77b_11e8_850d_54e1ad990481row8_col0 {\n",
       "            color:  red;\n",
       "        }    #T_402ee1b4_d77b_11e8_850d_54e1ad990481row8_col1 {\n",
       "            color:  red;\n",
       "        }    #T_402ee1b4_d77b_11e8_850d_54e1ad990481row8_col2 {\n",
       "            color:  red;\n",
       "        }    #T_402ee1b4_d77b_11e8_850d_54e1ad990481row9_col0 {\n",
       "            color:  red;\n",
       "        }    #T_402ee1b4_d77b_11e8_850d_54e1ad990481row9_col1 {\n",
       "            color:  red;\n",
       "        }    #T_402ee1b4_d77b_11e8_850d_54e1ad990481row9_col2 {\n",
       "            color:  red;\n",
       "        }    #T_402ee1b4_d77b_11e8_850d_54e1ad990481row10_col1 {\n",
       "            color:  red;\n",
       "        }    #T_402ee1b4_d77b_11e8_850d_54e1ad990481row10_col2 {\n",
       "            color:  red;\n",
       "        }</style>  \n",
       "<table id=\"T_402ee1b4_d77b_11e8_850d_54e1ad990481\" > \n",
       "<thead>    <tr> \n",
       "        <th class=\"blank level0\" ></th> \n",
       "        <th class=\"col_heading level0 col0\" >MI_clf_support</th> \n",
       "        <th class=\"col_heading level0 col1\" >Chi2_support</th> \n",
       "        <th class=\"col_heading level0 col2\" >F_classif_support</th> \n",
       "    </tr></thead> \n",
       "<tbody>    <tr> \n",
       "        <th id=\"T_402ee1b4_d77b_11e8_850d_54e1ad990481level0_row0\" class=\"row_heading level0 row0\" >proline</th> \n",
       "        <td id=\"T_402ee1b4_d77b_11e8_850d_54e1ad990481row0_col0\" class=\"data row0 col0\" >True</td> \n",
       "        <td id=\"T_402ee1b4_d77b_11e8_850d_54e1ad990481row0_col1\" class=\"data row0 col1\" >True</td> \n",
       "        <td id=\"T_402ee1b4_d77b_11e8_850d_54e1ad990481row0_col2\" class=\"data row0 col2\" >True</td> \n",
       "    </tr>    <tr> \n",
       "        <th id=\"T_402ee1b4_d77b_11e8_850d_54e1ad990481level0_row1\" class=\"row_heading level0 row1\" >color_intensity</th> \n",
       "        <td id=\"T_402ee1b4_d77b_11e8_850d_54e1ad990481row1_col0\" class=\"data row1 col0\" >True</td> \n",
       "        <td id=\"T_402ee1b4_d77b_11e8_850d_54e1ad990481row1_col1\" class=\"data row1 col1\" >True</td> \n",
       "        <td id=\"T_402ee1b4_d77b_11e8_850d_54e1ad990481row1_col2\" class=\"data row1 col2\" >True</td> \n",
       "    </tr>    <tr> \n",
       "        <th id=\"T_402ee1b4_d77b_11e8_850d_54e1ad990481level0_row2\" class=\"row_heading level0 row2\" >flavanoids</th> \n",
       "        <td id=\"T_402ee1b4_d77b_11e8_850d_54e1ad990481row2_col0\" class=\"data row2 col0\" >True</td> \n",
       "        <td id=\"T_402ee1b4_d77b_11e8_850d_54e1ad990481row2_col1\" class=\"data row2 col1\" >True</td> \n",
       "        <td id=\"T_402ee1b4_d77b_11e8_850d_54e1ad990481row2_col2\" class=\"data row2 col2\" >True</td> \n",
       "    </tr>    <tr> \n",
       "        <th id=\"T_402ee1b4_d77b_11e8_850d_54e1ad990481level0_row3\" class=\"row_heading level0 row3\" >magnesium</th> \n",
       "        <td id=\"T_402ee1b4_d77b_11e8_850d_54e1ad990481row3_col0\" class=\"data row3 col0\" >True</td> \n",
       "        <td id=\"T_402ee1b4_d77b_11e8_850d_54e1ad990481row3_col1\" class=\"data row3 col1\" >False</td> \n",
       "        <td id=\"T_402ee1b4_d77b_11e8_850d_54e1ad990481row3_col2\" class=\"data row3 col2\" >False</td> \n",
       "    </tr>    <tr> \n",
       "        <th id=\"T_402ee1b4_d77b_11e8_850d_54e1ad990481level0_row4\" class=\"row_heading level0 row4\" >alcalinity_of_ash</th> \n",
       "        <td id=\"T_402ee1b4_d77b_11e8_850d_54e1ad990481row4_col0\" class=\"data row4 col0\" >True</td> \n",
       "        <td id=\"T_402ee1b4_d77b_11e8_850d_54e1ad990481row4_col1\" class=\"data row4 col1\" >True</td> \n",
       "        <td id=\"T_402ee1b4_d77b_11e8_850d_54e1ad990481row4_col2\" class=\"data row4 col2\" >True</td> \n",
       "    </tr>    <tr> \n",
       "        <th id=\"T_402ee1b4_d77b_11e8_850d_54e1ad990481level0_row5\" class=\"row_heading level0 row5\" >malic_acid</th> \n",
       "        <td id=\"T_402ee1b4_d77b_11e8_850d_54e1ad990481row5_col0\" class=\"data row5 col0\" >True</td> \n",
       "        <td id=\"T_402ee1b4_d77b_11e8_850d_54e1ad990481row5_col1\" class=\"data row5 col1\" >True</td> \n",
       "        <td id=\"T_402ee1b4_d77b_11e8_850d_54e1ad990481row5_col2\" class=\"data row5 col2\" >True</td> \n",
       "    </tr>    <tr> \n",
       "        <th id=\"T_402ee1b4_d77b_11e8_850d_54e1ad990481level0_row6\" class=\"row_heading level0 row6\" >od280/od315_of_diluted_wines</th> \n",
       "        <td id=\"T_402ee1b4_d77b_11e8_850d_54e1ad990481row6_col0\" class=\"data row6 col0\" >True</td> \n",
       "        <td id=\"T_402ee1b4_d77b_11e8_850d_54e1ad990481row6_col1\" class=\"data row6 col1\" >True</td> \n",
       "        <td id=\"T_402ee1b4_d77b_11e8_850d_54e1ad990481row6_col2\" class=\"data row6 col2\" >True</td> \n",
       "    </tr>    <tr> \n",
       "        <th id=\"T_402ee1b4_d77b_11e8_850d_54e1ad990481level0_row7\" class=\"row_heading level0 row7\" >total_phenols</th> \n",
       "        <td id=\"T_402ee1b4_d77b_11e8_850d_54e1ad990481row7_col0\" class=\"data row7 col0\" >True</td> \n",
       "        <td id=\"T_402ee1b4_d77b_11e8_850d_54e1ad990481row7_col1\" class=\"data row7 col1\" >True</td> \n",
       "        <td id=\"T_402ee1b4_d77b_11e8_850d_54e1ad990481row7_col2\" class=\"data row7 col2\" >True</td> \n",
       "    </tr>    <tr> \n",
       "        <th id=\"T_402ee1b4_d77b_11e8_850d_54e1ad990481level0_row8\" class=\"row_heading level0 row8\" >proanthocyanins</th> \n",
       "        <td id=\"T_402ee1b4_d77b_11e8_850d_54e1ad990481row8_col0\" class=\"data row8 col0\" >True</td> \n",
       "        <td id=\"T_402ee1b4_d77b_11e8_850d_54e1ad990481row8_col1\" class=\"data row8 col1\" >True</td> \n",
       "        <td id=\"T_402ee1b4_d77b_11e8_850d_54e1ad990481row8_col2\" class=\"data row8 col2\" >True</td> \n",
       "    </tr>    <tr> \n",
       "        <th id=\"T_402ee1b4_d77b_11e8_850d_54e1ad990481level0_row9\" class=\"row_heading level0 row9\" >alcohol</th> \n",
       "        <td id=\"T_402ee1b4_d77b_11e8_850d_54e1ad990481row9_col0\" class=\"data row9 col0\" >True</td> \n",
       "        <td id=\"T_402ee1b4_d77b_11e8_850d_54e1ad990481row9_col1\" class=\"data row9 col1\" >True</td> \n",
       "        <td id=\"T_402ee1b4_d77b_11e8_850d_54e1ad990481row9_col2\" class=\"data row9 col2\" >True</td> \n",
       "    </tr>    <tr> \n",
       "        <th id=\"T_402ee1b4_d77b_11e8_850d_54e1ad990481level0_row10\" class=\"row_heading level0 row10\" >hue</th> \n",
       "        <td id=\"T_402ee1b4_d77b_11e8_850d_54e1ad990481row10_col0\" class=\"data row10 col0\" >False</td> \n",
       "        <td id=\"T_402ee1b4_d77b_11e8_850d_54e1ad990481row10_col1\" class=\"data row10 col1\" >True</td> \n",
       "        <td id=\"T_402ee1b4_d77b_11e8_850d_54e1ad990481row10_col2\" class=\"data row10 col2\" >True</td> \n",
       "    </tr>    <tr> \n",
       "        <th id=\"T_402ee1b4_d77b_11e8_850d_54e1ad990481level0_row11\" class=\"row_heading level0 row11\" >nonflavanoid_phenols</th> \n",
       "        <td id=\"T_402ee1b4_d77b_11e8_850d_54e1ad990481row11_col0\" class=\"data row11 col0\" >False</td> \n",
       "        <td id=\"T_402ee1b4_d77b_11e8_850d_54e1ad990481row11_col1\" class=\"data row11 col1\" >False</td> \n",
       "        <td id=\"T_402ee1b4_d77b_11e8_850d_54e1ad990481row11_col2\" class=\"data row11 col2\" >False</td> \n",
       "    </tr>    <tr> \n",
       "        <th id=\"T_402ee1b4_d77b_11e8_850d_54e1ad990481level0_row12\" class=\"row_heading level0 row12\" >ash</th> \n",
       "        <td id=\"T_402ee1b4_d77b_11e8_850d_54e1ad990481row12_col0\" class=\"data row12 col0\" >False</td> \n",
       "        <td id=\"T_402ee1b4_d77b_11e8_850d_54e1ad990481row12_col1\" class=\"data row12 col1\" >False</td> \n",
       "        <td id=\"T_402ee1b4_d77b_11e8_850d_54e1ad990481row12_col2\" class=\"data row12 col2\" >False</td> \n",
       "    </tr></tbody> \n",
       "</table> "
      ],
      "text/plain": [
       "<pandas.io.formats.style.Styler at 0x2998ab252e8>"
      ]
     },
     "execution_count": 10,
     "metadata": {},
     "output_type": "execute_result"
    }
   ],
   "source": [
    "X, y = load_wine(return_X_y=True)\n",
    "wine = load_wine()\n",
    "func = [chi2, mutual_info_classif, f_classif]\n",
    "func_name_1 = [i + '_score'for i in ['MI_clf', 'Chi2', 'F_classif']]\n",
    "func_name_2 = [i + '_support'for i in ['MI_clf', 'Chi2', 'F_classif']]\n",
    "select_result = pd.DataFrame(index=wine.feature_names)\n",
    "\n",
    "for i, j in enumerate(func):\n",
    "    gus = GenericUnivariateSelect(j, mode='k_best', param=10)\n",
    "    gus.fit(X, y)\n",
    "    select_result[func_name_1[i]] = gus.scores_\n",
    "    select_result[func_name_2[i]] = gus.get_support()\n",
    "\n",
    "select_result.sort_values(['MI_clf_score'], ascending=False, inplace=True) \n",
    "select_result[func_name_2].style.apply(highlight)"
   ]
  },
  {
   "cell_type": "markdown",
   "metadata": {},
   "source": [
    "#### 在boston数据集上的对比"
   ]
  },
  {
   "cell_type": "code",
   "execution_count": 11,
   "metadata": {},
   "outputs": [
    {
     "data": {
      "text/html": [
       "<style  type=\"text/css\" >\n",
       "    #T_4051ffb4_d77b_11e8_a18c_54e1ad990481row0_col0 {\n",
       "            color:  red;\n",
       "        }    #T_4051ffb4_d77b_11e8_a18c_54e1ad990481row0_col1 {\n",
       "            color:  red;\n",
       "        }    #T_4051ffb4_d77b_11e8_a18c_54e1ad990481row1_col0 {\n",
       "            color:  red;\n",
       "        }    #T_4051ffb4_d77b_11e8_a18c_54e1ad990481row1_col1 {\n",
       "            color:  red;\n",
       "        }    #T_4051ffb4_d77b_11e8_a18c_54e1ad990481row2_col0 {\n",
       "            color:  red;\n",
       "        }    #T_4051ffb4_d77b_11e8_a18c_54e1ad990481row2_col1 {\n",
       "            color:  red;\n",
       "        }    #T_4051ffb4_d77b_11e8_a18c_54e1ad990481row3_col0 {\n",
       "            color:  red;\n",
       "        }    #T_4051ffb4_d77b_11e8_a18c_54e1ad990481row3_col1 {\n",
       "            color:  red;\n",
       "        }    #T_4051ffb4_d77b_11e8_a18c_54e1ad990481row4_col0 {\n",
       "            color:  red;\n",
       "        }    #T_4051ffb4_d77b_11e8_a18c_54e1ad990481row4_col1 {\n",
       "            color:  red;\n",
       "        }    #T_4051ffb4_d77b_11e8_a18c_54e1ad990481row5_col0 {\n",
       "            color:  red;\n",
       "        }    #T_4051ffb4_d77b_11e8_a18c_54e1ad990481row5_col1 {\n",
       "            color:  red;\n",
       "        }    #T_4051ffb4_d77b_11e8_a18c_54e1ad990481row6_col0 {\n",
       "            color:  red;\n",
       "        }    #T_4051ffb4_d77b_11e8_a18c_54e1ad990481row6_col1 {\n",
       "            color:  red;\n",
       "        }    #T_4051ffb4_d77b_11e8_a18c_54e1ad990481row7_col0 {\n",
       "            color:  red;\n",
       "        }    #T_4051ffb4_d77b_11e8_a18c_54e1ad990481row7_col1 {\n",
       "            color:  red;\n",
       "        }    #T_4051ffb4_d77b_11e8_a18c_54e1ad990481row8_col0 {\n",
       "            color:  red;\n",
       "        }    #T_4051ffb4_d77b_11e8_a18c_54e1ad990481row9_col0 {\n",
       "            color:  red;\n",
       "        }    #T_4051ffb4_d77b_11e8_a18c_54e1ad990481row9_col1 {\n",
       "            color:  red;\n",
       "        }    #T_4051ffb4_d77b_11e8_a18c_54e1ad990481row10_col1 {\n",
       "            color:  red;\n",
       "        }</style>  \n",
       "<table id=\"T_4051ffb4_d77b_11e8_a18c_54e1ad990481\" > \n",
       "<thead>    <tr> \n",
       "        <th class=\"blank level0\" ></th> \n",
       "        <th class=\"col_heading level0 col0\" >MI_Reg_support</th> \n",
       "        <th class=\"col_heading level0 col1\" >F_regression_support</th> \n",
       "    </tr></thead> \n",
       "<tbody>    <tr> \n",
       "        <th id=\"T_4051ffb4_d77b_11e8_a18c_54e1ad990481level0_row0\" class=\"row_heading level0 row0\" >LSTAT</th> \n",
       "        <td id=\"T_4051ffb4_d77b_11e8_a18c_54e1ad990481row0_col0\" class=\"data row0 col0\" >True</td> \n",
       "        <td id=\"T_4051ffb4_d77b_11e8_a18c_54e1ad990481row0_col1\" class=\"data row0 col1\" >True</td> \n",
       "    </tr>    <tr> \n",
       "        <th id=\"T_4051ffb4_d77b_11e8_a18c_54e1ad990481level0_row1\" class=\"row_heading level0 row1\" >RM</th> \n",
       "        <td id=\"T_4051ffb4_d77b_11e8_a18c_54e1ad990481row1_col0\" class=\"data row1 col0\" >True</td> \n",
       "        <td id=\"T_4051ffb4_d77b_11e8_a18c_54e1ad990481row1_col1\" class=\"data row1 col1\" >True</td> \n",
       "    </tr>    <tr> \n",
       "        <th id=\"T_4051ffb4_d77b_11e8_a18c_54e1ad990481level0_row2\" class=\"row_heading level0 row2\" >NOX</th> \n",
       "        <td id=\"T_4051ffb4_d77b_11e8_a18c_54e1ad990481row2_col0\" class=\"data row2 col0\" >True</td> \n",
       "        <td id=\"T_4051ffb4_d77b_11e8_a18c_54e1ad990481row2_col1\" class=\"data row2 col1\" >True</td> \n",
       "    </tr>    <tr> \n",
       "        <th id=\"T_4051ffb4_d77b_11e8_a18c_54e1ad990481level0_row3\" class=\"row_heading level0 row3\" >INDUS</th> \n",
       "        <td id=\"T_4051ffb4_d77b_11e8_a18c_54e1ad990481row3_col0\" class=\"data row3 col0\" >True</td> \n",
       "        <td id=\"T_4051ffb4_d77b_11e8_a18c_54e1ad990481row3_col1\" class=\"data row3 col1\" >True</td> \n",
       "    </tr>    <tr> \n",
       "        <th id=\"T_4051ffb4_d77b_11e8_a18c_54e1ad990481level0_row4\" class=\"row_heading level0 row4\" >PTRATIO</th> \n",
       "        <td id=\"T_4051ffb4_d77b_11e8_a18c_54e1ad990481row4_col0\" class=\"data row4 col0\" >True</td> \n",
       "        <td id=\"T_4051ffb4_d77b_11e8_a18c_54e1ad990481row4_col1\" class=\"data row4 col1\" >True</td> \n",
       "    </tr>    <tr> \n",
       "        <th id=\"T_4051ffb4_d77b_11e8_a18c_54e1ad990481level0_row5\" class=\"row_heading level0 row5\" >TAX</th> \n",
       "        <td id=\"T_4051ffb4_d77b_11e8_a18c_54e1ad990481row5_col0\" class=\"data row5 col0\" >True</td> \n",
       "        <td id=\"T_4051ffb4_d77b_11e8_a18c_54e1ad990481row5_col1\" class=\"data row5 col1\" >True</td> \n",
       "    </tr>    <tr> \n",
       "        <th id=\"T_4051ffb4_d77b_11e8_a18c_54e1ad990481level0_row6\" class=\"row_heading level0 row6\" >CRIM</th> \n",
       "        <td id=\"T_4051ffb4_d77b_11e8_a18c_54e1ad990481row6_col0\" class=\"data row6 col0\" >True</td> \n",
       "        <td id=\"T_4051ffb4_d77b_11e8_a18c_54e1ad990481row6_col1\" class=\"data row6 col1\" >True</td> \n",
       "    </tr>    <tr> \n",
       "        <th id=\"T_4051ffb4_d77b_11e8_a18c_54e1ad990481level0_row7\" class=\"row_heading level0 row7\" >AGE</th> \n",
       "        <td id=\"T_4051ffb4_d77b_11e8_a18c_54e1ad990481row7_col0\" class=\"data row7 col0\" >True</td> \n",
       "        <td id=\"T_4051ffb4_d77b_11e8_a18c_54e1ad990481row7_col1\" class=\"data row7 col1\" >True</td> \n",
       "    </tr>    <tr> \n",
       "        <th id=\"T_4051ffb4_d77b_11e8_a18c_54e1ad990481level0_row8\" class=\"row_heading level0 row8\" >DIS</th> \n",
       "        <td id=\"T_4051ffb4_d77b_11e8_a18c_54e1ad990481row8_col0\" class=\"data row8 col0\" >True</td> \n",
       "        <td id=\"T_4051ffb4_d77b_11e8_a18c_54e1ad990481row8_col1\" class=\"data row8 col1\" >False</td> \n",
       "    </tr>    <tr> \n",
       "        <th id=\"T_4051ffb4_d77b_11e8_a18c_54e1ad990481level0_row9\" class=\"row_heading level0 row9\" >RAD</th> \n",
       "        <td id=\"T_4051ffb4_d77b_11e8_a18c_54e1ad990481row9_col0\" class=\"data row9 col0\" >True</td> \n",
       "        <td id=\"T_4051ffb4_d77b_11e8_a18c_54e1ad990481row9_col1\" class=\"data row9 col1\" >True</td> \n",
       "    </tr>    <tr> \n",
       "        <th id=\"T_4051ffb4_d77b_11e8_a18c_54e1ad990481level0_row10\" class=\"row_heading level0 row10\" >ZN</th> \n",
       "        <td id=\"T_4051ffb4_d77b_11e8_a18c_54e1ad990481row10_col0\" class=\"data row10 col0\" >False</td> \n",
       "        <td id=\"T_4051ffb4_d77b_11e8_a18c_54e1ad990481row10_col1\" class=\"data row10 col1\" >True</td> \n",
       "    </tr>    <tr> \n",
       "        <th id=\"T_4051ffb4_d77b_11e8_a18c_54e1ad990481level0_row11\" class=\"row_heading level0 row11\" >B</th> \n",
       "        <td id=\"T_4051ffb4_d77b_11e8_a18c_54e1ad990481row11_col0\" class=\"data row11 col0\" >False</td> \n",
       "        <td id=\"T_4051ffb4_d77b_11e8_a18c_54e1ad990481row11_col1\" class=\"data row11 col1\" >False</td> \n",
       "    </tr>    <tr> \n",
       "        <th id=\"T_4051ffb4_d77b_11e8_a18c_54e1ad990481level0_row12\" class=\"row_heading level0 row12\" >CHAS</th> \n",
       "        <td id=\"T_4051ffb4_d77b_11e8_a18c_54e1ad990481row12_col0\" class=\"data row12 col0\" >False</td> \n",
       "        <td id=\"T_4051ffb4_d77b_11e8_a18c_54e1ad990481row12_col1\" class=\"data row12 col1\" >False</td> \n",
       "    </tr></tbody> \n",
       "</table> "
      ],
      "text/plain": [
       "<pandas.io.formats.style.Styler at 0x2998ab2b2e8>"
      ]
     },
     "execution_count": 11,
     "metadata": {},
     "output_type": "execute_result"
    }
   ],
   "source": [
    "X, y = load_boston(return_X_y=True)\n",
    "boston = load_boston()\n",
    "func = [mutual_info_regression, f_regression]\n",
    "func_name_1 = [i + '_score'for i in ['MI_Reg', 'F_regression']]\n",
    "func_name_2 = [i + '_support'for i in ['MI_Reg', 'F_regression']]\n",
    "select_result = pd.DataFrame(index=boston.feature_names)\n",
    "\n",
    "for i, j in enumerate(func):\n",
    "    gus = GenericUnivariateSelect(j, mode='k_best', param=10)\n",
    "    gus.fit(X, y)\n",
    "    select_result[func_name_1[i]] = gus.scores_\n",
    "    select_result[func_name_2[i]] = gus.get_support()\n",
    "\n",
    "select_result.sort_values(['MI_Reg_score'], ascending=False, inplace=True) \n",
    "select_result[func_name_2].style.apply(highlight)"
   ]
  },
  {
   "cell_type": "code",
   "execution_count": 12,
   "metadata": {},
   "outputs": [
    {
     "data": {
      "image/png": "[encoded data removed]",
      "text/plain": [
       "<Figure size 1008x360 with 4 Axes>"
      ]
     },
     "metadata": {},
     "output_type": "display_data"
    }
   ],
   "source": [
    "import matplotlib.pyplot as plt\n",
    "%matplotlib inline\n",
    "\n",
    "f_test, _ = f_regression(X_reg, y_reg)\n",
    "f_test /= np.max(f_test)\n",
    "\n",
    "mi = mutual_info_regression(X_reg, y_reg)\n",
    "mi /= np.max(mi)\n",
    "\n",
    "func = ['Linear', 'np.sin', 'np.cos', 'np.tanh']\n",
    "plt.figure(figsize=(14, 5))\n",
    "for i in range(4):\n",
    "    plt.subplot(1, 4, i + 1)\n",
    "    plt.scatter(X_reg[:, i], y_reg, edgecolor='black', s=15, c='lightseagreen')  #'teal' 'seagreen'\n",
    "    plt.xlabel(\"$x_{}$\".format(i), fontsize=14)\n",
    "    if i == 0:\n",
    "        plt.ylabel(\"$y$\", fontsize=14)\n",
    "    plt.title(\"{:}\\nF-test={:.2f},  MI={:.2f}\".format(func[i], f_test[i], mi[i]), fontsize=13)\n",
    "plt.show()"
   ]
  },
  {
   "cell_type": "markdown",
   "metadata": {},
   "source": [
    "## 2 wrapper : 封装（包裹）式，将学习器的性能表现作为特征子集的评价准则\n",
    "\n",
    "#### 1) Wrapper methods assess subsets of variables according to their usefulness to a given predictor. In these methods, the subset selection takes place based on the learning algorithm used to train the model itself. Crudely speaking, every subset that is proposed by the subset selection measure is evaluated in the context of the learning algorithm.\n",
    "\n",
    "#### 2) Wrapper methods consider the selection of a set of features as a search problem, where different combinations are prepared, evaluated and compared to other combinations. Obviously, this means that computationally intensive learning algorithms cannot be used due to the repeated learning steps and cross-validation. \n",
    "\n",
    "#### 3) Pros&Cons\n",
    "- Pros: interaction between feature subset search and model selection, and the ability to take into account feature dependencies\n",
    "- Cons: higher risk of overfitting than filter techniques and are very computationally intensive, especially if building the classifier has a high computational cost\n",
    "\n",
    "#### 4) Wrapper methods:\n",
    "- recursive feature elimination\n",
    "- sequential feature selection algorithms\n",
    "- genetic algorithms"
   ]
  },
  {
   "cell_type": "markdown",
   "metadata": {},
   "source": [
    "### 2.1 递归特征删除：RFE(recursive feature elimination)"
   ]
  },
  {
   "cell_type": "markdown",
   "metadata": {},
   "source": [
    "#### RFE通过外部模型评判各特征的重要性，逐步剔除重要性较小的特征来进行特征选择\n",
    "- 通常运用回归模型返回的回归系数coef_、决策树模型返回的特征重要性feature_importances_来评估特征重要性\n",
    "- 剔除回归系数或重要性较小的特征（剔除个数由step决定），再次训练模型\n",
    "- 重复第二步，直到数据集中的特征数小于或等于n_features_to_select"
   ]
  },
  {
   "cell_type": "markdown",
   "metadata": {},
   "source": [
    "#### sklearn.feature_selection.RFECV(estimator, step=1, cv=None, scoring=None, verbose=0, n_jobs=1)\n",
    "- 通过交叉验证选取最佳的特征数\n",
    "- estimator: 监督模型，且fit方法能提供coef_属性或feature_importances_属性来评估特征重要性\n",
    "- step: int or float, optional (default=1)，每次迭代后删除的特征数或特征占比"
   ]
  },
  {
   "cell_type": "code",
   "execution_count": 13,
   "metadata": {
    "scrolled": false
   },
   "outputs": [
    {
     "name": "stdout",
     "output_type": "stream",
     "text": [
      "RFECV_XGB确定的最佳特征数: 9\n"
     ]
    },
    {
     "data": {
      "text/html": [
       "<style  type=\"text/css\" >\n",
       "    #T_4396750c_d77b_11e8_a73e_54e1ad990481row0_col0 {\n",
       "            color:  red;\n",
       "        }    #T_4396750c_d77b_11e8_a73e_54e1ad990481row1_col0 {\n",
       "            color:  red;\n",
       "        }    #T_4396750c_d77b_11e8_a73e_54e1ad990481row2_col0 {\n",
       "            color:  red;\n",
       "        }    #T_4396750c_d77b_11e8_a73e_54e1ad990481row3_col0 {\n",
       "            color:  red;\n",
       "        }    #T_4396750c_d77b_11e8_a73e_54e1ad990481row4_col0 {\n",
       "            color:  red;\n",
       "        }    #T_4396750c_d77b_11e8_a73e_54e1ad990481row5_col0 {\n",
       "            color:  red;\n",
       "        }    #T_4396750c_d77b_11e8_a73e_54e1ad990481row6_col0 {\n",
       "            color:  red;\n",
       "        }    #T_4396750c_d77b_11e8_a73e_54e1ad990481row7_col0 {\n",
       "            color:  red;\n",
       "        }    #T_4396750c_d77b_11e8_a73e_54e1ad990481row8_col0 {\n",
       "            color:  red;\n",
       "        }</style>  \n",
       "<table id=\"T_4396750c_d77b_11e8_a73e_54e1ad990481\" > \n",
       "<thead>    <tr> \n",
       "        <th class=\"blank level0\" ></th> \n",
       "        <th class=\"col_heading level0 col0\" >Support</th> \n",
       "        <th class=\"col_heading level0 col1\" >Ranking</th> \n",
       "    </tr></thead> \n",
       "<tbody>    <tr> \n",
       "        <th id=\"T_4396750c_d77b_11e8_a73e_54e1ad990481level0_row0\" class=\"row_heading level0 row0\" >CRIM</th> \n",
       "        <td id=\"T_4396750c_d77b_11e8_a73e_54e1ad990481row0_col0\" class=\"data row0 col0\" >True</td> \n",
       "        <td id=\"T_4396750c_d77b_11e8_a73e_54e1ad990481row0_col1\" class=\"data row0 col1\" >1</td> \n",
       "    </tr>    <tr> \n",
       "        <th id=\"T_4396750c_d77b_11e8_a73e_54e1ad990481level0_row1\" class=\"row_heading level0 row1\" >INDUS</th> \n",
       "        <td id=\"T_4396750c_d77b_11e8_a73e_54e1ad990481row1_col0\" class=\"data row1 col0\" >True</td> \n",
       "        <td id=\"T_4396750c_d77b_11e8_a73e_54e1ad990481row1_col1\" class=\"data row1 col1\" >1</td> \n",
       "    </tr>    <tr> \n",
       "        <th id=\"T_4396750c_d77b_11e8_a73e_54e1ad990481level0_row2\" class=\"row_heading level0 row2\" >NOX</th> \n",
       "        <td id=\"T_4396750c_d77b_11e8_a73e_54e1ad990481row2_col0\" class=\"data row2 col0\" >True</td> \n",
       "        <td id=\"T_4396750c_d77b_11e8_a73e_54e1ad990481row2_col1\" class=\"data row2 col1\" >1</td> \n",
       "    </tr>    <tr> \n",
       "        <th id=\"T_4396750c_d77b_11e8_a73e_54e1ad990481level0_row3\" class=\"row_heading level0 row3\" >RM</th> \n",
       "        <td id=\"T_4396750c_d77b_11e8_a73e_54e1ad990481row3_col0\" class=\"data row3 col0\" >True</td> \n",
       "        <td id=\"T_4396750c_d77b_11e8_a73e_54e1ad990481row3_col1\" class=\"data row3 col1\" >1</td> \n",
       "    </tr>    <tr> \n",
       "        <th id=\"T_4396750c_d77b_11e8_a73e_54e1ad990481level0_row4\" class=\"row_heading level0 row4\" >AGE</th> \n",
       "        <td id=\"T_4396750c_d77b_11e8_a73e_54e1ad990481row4_col0\" class=\"data row4 col0\" >True</td> \n",
       "        <td id=\"T_4396750c_d77b_11e8_a73e_54e1ad990481row4_col1\" class=\"data row4 col1\" >1</td> \n",
       "    </tr>    <tr> \n",
       "        <th id=\"T_4396750c_d77b_11e8_a73e_54e1ad990481level0_row5\" class=\"row_heading level0 row5\" >DIS</th> \n",
       "        <td id=\"T_4396750c_d77b_11e8_a73e_54e1ad990481row5_col0\" class=\"data row5 col0\" >True</td> \n",
       "        <td id=\"T_4396750c_d77b_11e8_a73e_54e1ad990481row5_col1\" class=\"data row5 col1\" >1</td> \n",
       "    </tr>    <tr> \n",
       "        <th id=\"T_4396750c_d77b_11e8_a73e_54e1ad990481level0_row6\" class=\"row_heading level0 row6\" >TAX</th> \n",
       "        <td id=\"T_4396750c_d77b_11e8_a73e_54e1ad990481row6_col0\" class=\"data row6 col0\" >True</td> \n",
       "        <td id=\"T_4396750c_d77b_11e8_a73e_54e1ad990481row6_col1\" class=\"data row6 col1\" >1</td> \n",
       "    </tr>    <tr> \n",
       "        <th id=\"T_4396750c_d77b_11e8_a73e_54e1ad990481level0_row7\" class=\"row_heading level0 row7\" >B</th> \n",
       "        <td id=\"T_4396750c_d77b_11e8_a73e_54e1ad990481row7_col0\" class=\"data row7 col0\" >True</td> \n",
       "        <td id=\"T_4396750c_d77b_11e8_a73e_54e1ad990481row7_col1\" class=\"data row7 col1\" >1</td> \n",
       "    </tr>    <tr> \n",
       "        <th id=\"T_4396750c_d77b_11e8_a73e_54e1ad990481level0_row8\" class=\"row_heading level0 row8\" >LSTAT</th> \n",
       "        <td id=\"T_4396750c_d77b_11e8_a73e_54e1ad990481row8_col0\" class=\"data row8 col0\" >True</td> \n",
       "        <td id=\"T_4396750c_d77b_11e8_a73e_54e1ad990481row8_col1\" class=\"data row8 col1\" >1</td> \n",
       "    </tr>    <tr> \n",
       "        <th id=\"T_4396750c_d77b_11e8_a73e_54e1ad990481level0_row9\" class=\"row_heading level0 row9\" >PTRATIO</th> \n",
       "        <td id=\"T_4396750c_d77b_11e8_a73e_54e1ad990481row9_col0\" class=\"data row9 col0\" >False</td> \n",
       "        <td id=\"T_4396750c_d77b_11e8_a73e_54e1ad990481row9_col1\" class=\"data row9 col1\" >2</td> \n",
       "    </tr>    <tr> \n",
       "        <th id=\"T_4396750c_d77b_11e8_a73e_54e1ad990481level0_row10\" class=\"row_heading level0 row10\" >ZN</th> \n",
       "        <td id=\"T_4396750c_d77b_11e8_a73e_54e1ad990481row10_col0\" class=\"data row10 col0\" >False</td> \n",
       "        <td id=\"T_4396750c_d77b_11e8_a73e_54e1ad990481row10_col1\" class=\"data row10 col1\" >3</td> \n",
       "    </tr>    <tr> \n",
       "        <th id=\"T_4396750c_d77b_11e8_a73e_54e1ad990481level0_row11\" class=\"row_heading level0 row11\" >RAD</th> \n",
       "        <td id=\"T_4396750c_d77b_11e8_a73e_54e1ad990481row11_col0\" class=\"data row11 col0\" >False</td> \n",
       "        <td id=\"T_4396750c_d77b_11e8_a73e_54e1ad990481row11_col1\" class=\"data row11 col1\" >4</td> \n",
       "    </tr>    <tr> \n",
       "        <th id=\"T_4396750c_d77b_11e8_a73e_54e1ad990481level0_row12\" class=\"row_heading level0 row12\" >CHAS</th> \n",
       "        <td id=\"T_4396750c_d77b_11e8_a73e_54e1ad990481row12_col0\" class=\"data row12 col0\" >False</td> \n",
       "        <td id=\"T_4396750c_d77b_11e8_a73e_54e1ad990481row12_col1\" class=\"data row12 col1\" >5</td> \n",
       "    </tr></tbody> \n",
       "</table> "
      ],
      "text/plain": [
       "<pandas.io.formats.style.Styler at 0x2998b1c6320>"
      ]
     },
     "execution_count": 13,
     "metadata": {},
     "output_type": "execute_result"
    }
   ],
   "source": [
    "from sklearn.feature_selection import RFE, RFECV  \n",
    "from sklearn.linear_model import LinearRegression  \n",
    "from xgboost import XGBRegressor\n",
    "  \n",
    "    \n",
    "boston = load_boston()  \n",
    "X, y = load_boston(return_X_y=True)\n",
    "feature_name = boston.feature_names\n",
    "xgb = XGBRegressor(learning_rate=0.15, n_estimators=150, random_state=2017)\n",
    "RFECV_xgb = RFECV(xgb, cv=5, scoring='neg_mean_squared_error', n_jobs=-1)\n",
    "RFECV_xgb.fit(X, y)\n",
    "print('RFECV_XGB确定的最佳特征数:', RFECV_xgb.n_features_)\n",
    "\n",
    "# RFECV_xgb.grid_scores_ 交叉验证分数与特征是否被选择的关系不明显\n",
    "rfe_dict = {'Support':RFECV_xgb.support_, 'Ranking':RFECV_xgb.ranking_}\n",
    "rfe_res = pd.DataFrame(rfe_dict, index=boston.feature_names)\n",
    "rfe_res.sort_values('Ranking', inplace=True)\n",
    "rfe_res.style.apply(highlight, subset=['Support'])"
   ]
  },
  {
   "cell_type": "markdown",
   "metadata": {},
   "source": [
    "#### sklearn.feature_selection.RFE(estimator, n_features_to_select=None, step=1, verbose=0)\n",
    "\n",
    "- estimator: 监督模型，且fit方法能提供coef_属性或feature_importances_属性来评估特征重要性\n",
    "- n_features_to_select：指定保留的特征数，若未指定，则保留一半的特征"
   ]
  },
  {
   "cell_type": "code",
   "execution_count": 14,
   "metadata": {
    "scrolled": false
   },
   "outputs": [
    {
     "data": {
      "text/html": [
       "<style  type=\"text/css\" >\n",
       "    #T_43d3741a_d77b_11e8_a23b_54e1ad990481row0_col0 {\n",
       "            color:  red;\n",
       "        }    #T_43d3741a_d77b_11e8_a23b_54e1ad990481row0_col1 {\n",
       "            color:  red;\n",
       "        }    #T_43d3741a_d77b_11e8_a23b_54e1ad990481row0_col2 {\n",
       "            color:  red;\n",
       "        }    #T_43d3741a_d77b_11e8_a23b_54e1ad990481row0_col3 {\n",
       "            color:  red;\n",
       "        }    #T_43d3741a_d77b_11e8_a23b_54e1ad990481row1_col0 {\n",
       "            color:  red;\n",
       "        }    #T_43d3741a_d77b_11e8_a23b_54e1ad990481row1_col1 {\n",
       "            color:  red;\n",
       "        }    #T_43d3741a_d77b_11e8_a23b_54e1ad990481row1_col2 {\n",
       "            color:  black;\n",
       "        }    #T_43d3741a_d77b_11e8_a23b_54e1ad990481row1_col3 {\n",
       "            color:  black;\n",
       "        }    #T_43d3741a_d77b_11e8_a23b_54e1ad990481row2_col0 {\n",
       "            color:  red;\n",
       "        }    #T_43d3741a_d77b_11e8_a23b_54e1ad990481row2_col1 {\n",
       "            color:  red;\n",
       "        }    #T_43d3741a_d77b_11e8_a23b_54e1ad990481row2_col2 {\n",
       "            color:  red;\n",
       "        }    #T_43d3741a_d77b_11e8_a23b_54e1ad990481row2_col3 {\n",
       "            color:  red;\n",
       "        }    #T_43d3741a_d77b_11e8_a23b_54e1ad990481row3_col0 {\n",
       "            color:  red;\n",
       "        }    #T_43d3741a_d77b_11e8_a23b_54e1ad990481row3_col1 {\n",
       "            color:  red;\n",
       "        }    #T_43d3741a_d77b_11e8_a23b_54e1ad990481row3_col2 {\n",
       "            color:  black;\n",
       "        }    #T_43d3741a_d77b_11e8_a23b_54e1ad990481row3_col3 {\n",
       "            color:  black;\n",
       "        }    #T_43d3741a_d77b_11e8_a23b_54e1ad990481row4_col0 {\n",
       "            color:  red;\n",
       "        }    #T_43d3741a_d77b_11e8_a23b_54e1ad990481row4_col1 {\n",
       "            color:  red;\n",
       "        }    #T_43d3741a_d77b_11e8_a23b_54e1ad990481row4_col2 {\n",
       "            color:  red;\n",
       "        }    #T_43d3741a_d77b_11e8_a23b_54e1ad990481row4_col3 {\n",
       "            color:  red;\n",
       "        }    #T_43d3741a_d77b_11e8_a23b_54e1ad990481row5_col0 {\n",
       "            color:  red;\n",
       "        }    #T_43d3741a_d77b_11e8_a23b_54e1ad990481row5_col1 {\n",
       "            color:  red;\n",
       "        }    #T_43d3741a_d77b_11e8_a23b_54e1ad990481row5_col2 {\n",
       "            color:  red;\n",
       "        }    #T_43d3741a_d77b_11e8_a23b_54e1ad990481row5_col3 {\n",
       "            color:  red;\n",
       "        }    #T_43d3741a_d77b_11e8_a23b_54e1ad990481row6_col0 {\n",
       "            color:  red;\n",
       "        }    #T_43d3741a_d77b_11e8_a23b_54e1ad990481row6_col1 {\n",
       "            color:  red;\n",
       "        }    #T_43d3741a_d77b_11e8_a23b_54e1ad990481row6_col2 {\n",
       "            color:  red;\n",
       "        }    #T_43d3741a_d77b_11e8_a23b_54e1ad990481row6_col3 {\n",
       "            color:  red;\n",
       "        }    #T_43d3741a_d77b_11e8_a23b_54e1ad990481row7_col0 {\n",
       "            color:  red;\n",
       "        }    #T_43d3741a_d77b_11e8_a23b_54e1ad990481row7_col1 {\n",
       "            color:  red;\n",
       "        }    #T_43d3741a_d77b_11e8_a23b_54e1ad990481row7_col2 {\n",
       "            color:  black;\n",
       "        }    #T_43d3741a_d77b_11e8_a23b_54e1ad990481row7_col3 {\n",
       "            color:  black;\n",
       "        }    #T_43d3741a_d77b_11e8_a23b_54e1ad990481row8_col0 {\n",
       "            color:  red;\n",
       "        }    #T_43d3741a_d77b_11e8_a23b_54e1ad990481row8_col1 {\n",
       "            color:  red;\n",
       "        }    #T_43d3741a_d77b_11e8_a23b_54e1ad990481row8_col2 {\n",
       "            color:  red;\n",
       "        }    #T_43d3741a_d77b_11e8_a23b_54e1ad990481row8_col3 {\n",
       "            color:  red;\n",
       "        }    #T_43d3741a_d77b_11e8_a23b_54e1ad990481row9_col0 {\n",
       "            color:  red;\n",
       "        }    #T_43d3741a_d77b_11e8_a23b_54e1ad990481row9_col1 {\n",
       "            color:  red;\n",
       "        }    #T_43d3741a_d77b_11e8_a23b_54e1ad990481row9_col2 {\n",
       "            color:  red;\n",
       "        }    #T_43d3741a_d77b_11e8_a23b_54e1ad990481row9_col3 {\n",
       "            color:  red;\n",
       "        }    #T_43d3741a_d77b_11e8_a23b_54e1ad990481row10_col0 {\n",
       "            color:  black;\n",
       "        }    #T_43d3741a_d77b_11e8_a23b_54e1ad990481row10_col1 {\n",
       "            color:  black;\n",
       "        }    #T_43d3741a_d77b_11e8_a23b_54e1ad990481row10_col2 {\n",
       "            color:  red;\n",
       "        }    #T_43d3741a_d77b_11e8_a23b_54e1ad990481row10_col3 {\n",
       "            color:  red;\n",
       "        }    #T_43d3741a_d77b_11e8_a23b_54e1ad990481row11_col0 {\n",
       "            color:  black;\n",
       "        }    #T_43d3741a_d77b_11e8_a23b_54e1ad990481row11_col1 {\n",
       "            color:  black;\n",
       "        }    #T_43d3741a_d77b_11e8_a23b_54e1ad990481row11_col2 {\n",
       "            color:  red;\n",
       "        }    #T_43d3741a_d77b_11e8_a23b_54e1ad990481row11_col3 {\n",
       "            color:  red;\n",
       "        }    #T_43d3741a_d77b_11e8_a23b_54e1ad990481row12_col0 {\n",
       "            color:  black;\n",
       "        }    #T_43d3741a_d77b_11e8_a23b_54e1ad990481row12_col1 {\n",
       "            color:  black;\n",
       "        }    #T_43d3741a_d77b_11e8_a23b_54e1ad990481row12_col2 {\n",
       "            color:  red;\n",
       "        }    #T_43d3741a_d77b_11e8_a23b_54e1ad990481row12_col3 {\n",
       "            color:  red;\n",
       "        }</style>  \n",
       "<table id=\"T_43d3741a_d77b_11e8_a23b_54e1ad990481\" > \n",
       "<thead>    <tr> \n",
       "        <th class=\"blank level0\" ></th> \n",
       "        <th class=\"col_heading level0 col0\" >LR_ranking</th> \n",
       "        <th class=\"col_heading level0 col1\" >LR_support</th> \n",
       "        <th class=\"col_heading level0 col2\" >XGB_ranking</th> \n",
       "        <th class=\"col_heading level0 col3\" >XGB_support</th> \n",
       "    </tr></thead> \n",
       "<tbody>    <tr> \n",
       "        <th id=\"T_43d3741a_d77b_11e8_a23b_54e1ad990481level0_row0\" class=\"row_heading level0 row0\" >CRIM</th> \n",
       "        <td id=\"T_43d3741a_d77b_11e8_a23b_54e1ad990481row0_col0\" class=\"data row0 col0\" >1</td> \n",
       "        <td id=\"T_43d3741a_d77b_11e8_a23b_54e1ad990481row0_col1\" class=\"data row0 col1\" >True</td> \n",
       "        <td id=\"T_43d3741a_d77b_11e8_a23b_54e1ad990481row0_col2\" class=\"data row0 col2\" >1</td> \n",
       "        <td id=\"T_43d3741a_d77b_11e8_a23b_54e1ad990481row0_col3\" class=\"data row0 col3\" >True</td> \n",
       "    </tr>    <tr> \n",
       "        <th id=\"T_43d3741a_d77b_11e8_a23b_54e1ad990481level0_row1\" class=\"row_heading level0 row1\" >ZN</th> \n",
       "        <td id=\"T_43d3741a_d77b_11e8_a23b_54e1ad990481row1_col0\" class=\"data row1 col0\" >1</td> \n",
       "        <td id=\"T_43d3741a_d77b_11e8_a23b_54e1ad990481row1_col1\" class=\"data row1 col1\" >True</td> \n",
       "        <td id=\"T_43d3741a_d77b_11e8_a23b_54e1ad990481row1_col2\" class=\"data row1 col2\" >2</td> \n",
       "        <td id=\"T_43d3741a_d77b_11e8_a23b_54e1ad990481row1_col3\" class=\"data row1 col3\" >False</td> \n",
       "    </tr>    <tr> \n",
       "        <th id=\"T_43d3741a_d77b_11e8_a23b_54e1ad990481level0_row2\" class=\"row_heading level0 row2\" >INDUS</th> \n",
       "        <td id=\"T_43d3741a_d77b_11e8_a23b_54e1ad990481row2_col0\" class=\"data row2 col0\" >1</td> \n",
       "        <td id=\"T_43d3741a_d77b_11e8_a23b_54e1ad990481row2_col1\" class=\"data row2 col1\" >True</td> \n",
       "        <td id=\"T_43d3741a_d77b_11e8_a23b_54e1ad990481row2_col2\" class=\"data row2 col2\" >1</td> \n",
       "        <td id=\"T_43d3741a_d77b_11e8_a23b_54e1ad990481row2_col3\" class=\"data row2 col3\" >True</td> \n",
       "    </tr>    <tr> \n",
       "        <th id=\"T_43d3741a_d77b_11e8_a23b_54e1ad990481level0_row3\" class=\"row_heading level0 row3\" >CHAS</th> \n",
       "        <td id=\"T_43d3741a_d77b_11e8_a23b_54e1ad990481row3_col0\" class=\"data row3 col0\" >1</td> \n",
       "        <td id=\"T_43d3741a_d77b_11e8_a23b_54e1ad990481row3_col1\" class=\"data row3 col1\" >True</td> \n",
       "        <td id=\"T_43d3741a_d77b_11e8_a23b_54e1ad990481row3_col2\" class=\"data row3 col2\" >4</td> \n",
       "        <td id=\"T_43d3741a_d77b_11e8_a23b_54e1ad990481row3_col3\" class=\"data row3 col3\" >False</td> \n",
       "    </tr>    <tr> \n",
       "        <th id=\"T_43d3741a_d77b_11e8_a23b_54e1ad990481level0_row4\" class=\"row_heading level0 row4\" >NOX</th> \n",
       "        <td id=\"T_43d3741a_d77b_11e8_a23b_54e1ad990481row4_col0\" class=\"data row4 col0\" >1</td> \n",
       "        <td id=\"T_43d3741a_d77b_11e8_a23b_54e1ad990481row4_col1\" class=\"data row4 col1\" >True</td> \n",
       "        <td id=\"T_43d3741a_d77b_11e8_a23b_54e1ad990481row4_col2\" class=\"data row4 col2\" >1</td> \n",
       "        <td id=\"T_43d3741a_d77b_11e8_a23b_54e1ad990481row4_col3\" class=\"data row4 col3\" >True</td> \n",
       "    </tr>    <tr> \n",
       "        <th id=\"T_43d3741a_d77b_11e8_a23b_54e1ad990481level0_row5\" class=\"row_heading level0 row5\" >RM</th> \n",
       "        <td id=\"T_43d3741a_d77b_11e8_a23b_54e1ad990481row5_col0\" class=\"data row5 col0\" >1</td> \n",
       "        <td id=\"T_43d3741a_d77b_11e8_a23b_54e1ad990481row5_col1\" class=\"data row5 col1\" >True</td> \n",
       "        <td id=\"T_43d3741a_d77b_11e8_a23b_54e1ad990481row5_col2\" class=\"data row5 col2\" >1</td> \n",
       "        <td id=\"T_43d3741a_d77b_11e8_a23b_54e1ad990481row5_col3\" class=\"data row5 col3\" >True</td> \n",
       "    </tr>    <tr> \n",
       "        <th id=\"T_43d3741a_d77b_11e8_a23b_54e1ad990481level0_row6\" class=\"row_heading level0 row6\" >DIS</th> \n",
       "        <td id=\"T_43d3741a_d77b_11e8_a23b_54e1ad990481row6_col0\" class=\"data row6 col0\" >1</td> \n",
       "        <td id=\"T_43d3741a_d77b_11e8_a23b_54e1ad990481row6_col1\" class=\"data row6 col1\" >True</td> \n",
       "        <td id=\"T_43d3741a_d77b_11e8_a23b_54e1ad990481row6_col2\" class=\"data row6 col2\" >1</td> \n",
       "        <td id=\"T_43d3741a_d77b_11e8_a23b_54e1ad990481row6_col3\" class=\"data row6 col3\" >True</td> \n",
       "    </tr>    <tr> \n",
       "        <th id=\"T_43d3741a_d77b_11e8_a23b_54e1ad990481level0_row7\" class=\"row_heading level0 row7\" >RAD</th> \n",
       "        <td id=\"T_43d3741a_d77b_11e8_a23b_54e1ad990481row7_col0\" class=\"data row7 col0\" >1</td> \n",
       "        <td id=\"T_43d3741a_d77b_11e8_a23b_54e1ad990481row7_col1\" class=\"data row7 col1\" >True</td> \n",
       "        <td id=\"T_43d3741a_d77b_11e8_a23b_54e1ad990481row7_col2\" class=\"data row7 col2\" >3</td> \n",
       "        <td id=\"T_43d3741a_d77b_11e8_a23b_54e1ad990481row7_col3\" class=\"data row7 col3\" >False</td> \n",
       "    </tr>    <tr> \n",
       "        <th id=\"T_43d3741a_d77b_11e8_a23b_54e1ad990481level0_row8\" class=\"row_heading level0 row8\" >PTRATIO</th> \n",
       "        <td id=\"T_43d3741a_d77b_11e8_a23b_54e1ad990481row8_col0\" class=\"data row8 col0\" >1</td> \n",
       "        <td id=\"T_43d3741a_d77b_11e8_a23b_54e1ad990481row8_col1\" class=\"data row8 col1\" >True</td> \n",
       "        <td id=\"T_43d3741a_d77b_11e8_a23b_54e1ad990481row8_col2\" class=\"data row8 col2\" >1</td> \n",
       "        <td id=\"T_43d3741a_d77b_11e8_a23b_54e1ad990481row8_col3\" class=\"data row8 col3\" >True</td> \n",
       "    </tr>    <tr> \n",
       "        <th id=\"T_43d3741a_d77b_11e8_a23b_54e1ad990481level0_row9\" class=\"row_heading level0 row9\" >LSTAT</th> \n",
       "        <td id=\"T_43d3741a_d77b_11e8_a23b_54e1ad990481row9_col0\" class=\"data row9 col0\" >1</td> \n",
       "        <td id=\"T_43d3741a_d77b_11e8_a23b_54e1ad990481row9_col1\" class=\"data row9 col1\" >True</td> \n",
       "        <td id=\"T_43d3741a_d77b_11e8_a23b_54e1ad990481row9_col2\" class=\"data row9 col2\" >1</td> \n",
       "        <td id=\"T_43d3741a_d77b_11e8_a23b_54e1ad990481row9_col3\" class=\"data row9 col3\" >True</td> \n",
       "    </tr>    <tr> \n",
       "        <th id=\"T_43d3741a_d77b_11e8_a23b_54e1ad990481level0_row10\" class=\"row_heading level0 row10\" >TAX</th> \n",
       "        <td id=\"T_43d3741a_d77b_11e8_a23b_54e1ad990481row10_col0\" class=\"data row10 col0\" >2</td> \n",
       "        <td id=\"T_43d3741a_d77b_11e8_a23b_54e1ad990481row10_col1\" class=\"data row10 col1\" >False</td> \n",
       "        <td id=\"T_43d3741a_d77b_11e8_a23b_54e1ad990481row10_col2\" class=\"data row10 col2\" >1</td> \n",
       "        <td id=\"T_43d3741a_d77b_11e8_a23b_54e1ad990481row10_col3\" class=\"data row10 col3\" >True</td> \n",
       "    </tr>    <tr> \n",
       "        <th id=\"T_43d3741a_d77b_11e8_a23b_54e1ad990481level0_row11\" class=\"row_heading level0 row11\" >B</th> \n",
       "        <td id=\"T_43d3741a_d77b_11e8_a23b_54e1ad990481row11_col0\" class=\"data row11 col0\" >3</td> \n",
       "        <td id=\"T_43d3741a_d77b_11e8_a23b_54e1ad990481row11_col1\" class=\"data row11 col1\" >False</td> \n",
       "        <td id=\"T_43d3741a_d77b_11e8_a23b_54e1ad990481row11_col2\" class=\"data row11 col2\" >1</td> \n",
       "        <td id=\"T_43d3741a_d77b_11e8_a23b_54e1ad990481row11_col3\" class=\"data row11 col3\" >True</td> \n",
       "    </tr>    <tr> \n",
       "        <th id=\"T_43d3741a_d77b_11e8_a23b_54e1ad990481level0_row12\" class=\"row_heading level0 row12\" >AGE</th> \n",
       "        <td id=\"T_43d3741a_d77b_11e8_a23b_54e1ad990481row12_col0\" class=\"data row12 col0\" >4</td> \n",
       "        <td id=\"T_43d3741a_d77b_11e8_a23b_54e1ad990481row12_col1\" class=\"data row12 col1\" >False</td> \n",
       "        <td id=\"T_43d3741a_d77b_11e8_a23b_54e1ad990481row12_col2\" class=\"data row12 col2\" >1</td> \n",
       "        <td id=\"T_43d3741a_d77b_11e8_a23b_54e1ad990481row12_col3\" class=\"data row12 col3\" >True</td> \n",
       "    </tr></tbody> \n",
       "</table> "
      ],
      "text/plain": [
       "<pandas.io.formats.style.Styler at 0x2998b1a9e80>"
      ]
     },
     "execution_count": 14,
     "metadata": {},
     "output_type": "execute_result"
    }
   ],
   "source": [
    "lr = LinearRegression()  \n",
    "\n",
    "# 保留10个特征\n",
    "rfe_lr = RFE(lr, n_features_to_select=10).fit(X, y)  \n",
    "rfe_xgb = RFE(xgb, n_features_to_select=10).fit(X, y)\n",
    "\n",
    "dict_ = {'LR_ranking':rfe_lr.ranking_, \n",
    "         'LR_support':rfe_lr.support_, \n",
    "         'XGB_ranking':rfe_xgb.ranking_, \n",
    "         'XGB_support':rfe_xgb.support_}\n",
    "\n",
    "RFE_df = pd.DataFrame(data=dict_, index=feature_name)\n",
    "RFE_df.sort_values(['LR_ranking'], inplace=True)\n",
    "\n",
    "def color_negative_red(val):\n",
    "    color = 'red' if val == 1 else 'black'\n",
    "    return 'color: %s' % color\n",
    "\n",
    "# lr_ranking=1或lr_support=True，表示此特征被选择\n",
    "# 可见不同的模型对特征重要性的评估结果可能不同\n",
    "RFE_df.style.applymap(color_negative_red)"
   ]
  },
  {
   "cell_type": "markdown",
   "metadata": {},
   "source": [
    "### 3 Embbed：嵌入式"
   ]
  },
  {
   "cell_type": "markdown",
   "metadata": {
    "collapsed": true
   },
   "source": [
    "#### 1) 嵌入式特征选择：特征选择过程与模型训练过程融为一体，两者在同一个优化过程中完成，即在模型训练过程中同时进行了特征选择\n",
    "\n",
    "#### 2) Embedded methods与wrapper methods的区别：在模型训练过程中是否具备内生性的特征评价准则\n",
    "\n",
    "#### 3) Pros&Cons\n",
    "- **优点:** Embedded methods相比Wrapper methods的计算消耗更少\n",
    "- **缺点:** 仅限于特定的机器学习算法（specific to a learning machine）\n",
    "\n",
    "#### 4) Examples\n",
    "- L1正则化：典型的嵌入式特征选择方法，能有效降低过拟合风险\n",
    "- 决策树\n",
    "- 神经网络\n",
    "\n",
    "#### 5) API：sklearn.feature_selection.SelectFromModel(estimator, threshold=None, prefit=False, norm_order=1)\n",
    "- 根据反应特征重要性的参数选择特征\n",
    "- estimator： 模型必须具有feature_importances_ 或者coef_ attribute这里反应特征重要性的属性\n",
    "- threshold ：大于等于阈值的特征被保留，默认取'mean'，还可取'median'，以及'1.25*mean'、标量等形式"
   ]
  },
  {
   "cell_type": "markdown",
   "metadata": {},
   "source": [
    "### 3.1 基于L1正则化进行特征选择\n",
    "- L1正则化是不稳定的，如果特征集合中具有共线性特征，则共线性特征可能只保留了一个，没有被选择到的特征不代表不重要\n",
    "- 如果要确定哪个特征重要，应再通过L2正则方法交叉检验"
   ]
  },
  {
   "cell_type": "code",
   "execution_count": 15,
   "metadata": {},
   "outputs": [
    {
     "name": "stdout",
     "output_type": "stream",
     "text": [
      "shape:(569, 30)--->shape:(569, 7)\n"
     ]
    },
    {
     "data": {
      "text/html": [
       "<div>\n",
       "<style scoped>\n",
       "    .dataframe tbody tr th:only-of-type {\n",
       "        vertical-align: middle;\n",
       "    }\n",
       "\n",
       "    .dataframe tbody tr th {\n",
       "        vertical-align: top;\n",
       "    }\n",
       "\n",
       "    .dataframe thead th {\n",
       "        text-align: right;\n",
       "    }\n",
       "</style>\n",
       "<table border=\"1\" class=\"dataframe\">\n",
       "  <thead>\n",
       "    <tr style=\"text-align: right;\">\n",
       "      <th></th>\n",
       "      <th>Support</th>\n",
       "    </tr>\n",
       "  </thead>\n",
       "  <tbody>\n",
       "    <tr>\n",
       "      <th>mean concave points</th>\n",
       "      <td>True</td>\n",
       "    </tr>\n",
       "    <tr>\n",
       "      <th>radius error</th>\n",
       "      <td>True</td>\n",
       "    </tr>\n",
       "    <tr>\n",
       "      <th>worst radius</th>\n",
       "      <td>True</td>\n",
       "    </tr>\n",
       "    <tr>\n",
       "      <th>worst texture</th>\n",
       "      <td>True</td>\n",
       "    </tr>\n",
       "    <tr>\n",
       "      <th>worst smoothness</th>\n",
       "      <td>True</td>\n",
       "    </tr>\n",
       "    <tr>\n",
       "      <th>worst concave points</th>\n",
       "      <td>True</td>\n",
       "    </tr>\n",
       "    <tr>\n",
       "      <th>worst symmetry</th>\n",
       "      <td>True</td>\n",
       "    </tr>\n",
       "  </tbody>\n",
       "</table>\n",
       "</div>"
      ],
      "text/plain": [
       "                      Support\n",
       "mean concave points      True\n",
       "radius error             True\n",
       "worst radius             True\n",
       "worst texture            True\n",
       "worst smoothness         True\n",
       "worst concave points     True\n",
       "worst symmetry           True"
      ]
     },
     "execution_count": 15,
     "metadata": {},
     "output_type": "execute_result"
    }
   ],
   "source": [
    "from sklearn.svm import LinearSVC\n",
    "from sklearn.datasets import load_breast_cancer\n",
    "from sklearn.feature_selection import SelectFromModel\n",
    "from sklearn.preprocessing import StandardScaler\n",
    "\n",
    "cancer = load_breast_cancer()\n",
    "X, y = load_breast_cancer(return_X_y=True)\n",
    "X_scaled = StandardScaler().fit_transform(X)\n",
    "\n",
    "# 基于L1正则化的特征选择\n",
    "clf = LinearSVC(C=0.01, penalty=\"l1\", dual=False).fit(X_scaled, y)\n",
    "model = SelectFromModel(clf, prefit=True)\n",
    "X_lsvc = model.transform(X_scaled)\n",
    "print('shape:{:}--->shape:{:}'.format(X.shape, X_lsvc.shape))\n",
    "\n",
    "data = {'Support' : model.get_support()}\n",
    "a = pd.DataFrame(data, index = cancer.feature_names)\n",
    "a[a['Support']==True]"
   ]
  },
  {
   "cell_type": "markdown",
   "metadata": {},
   "source": [
    "### 3.2 决策树类模型"
   ]
  },
  {
   "cell_type": "code",
   "execution_count": 16,
   "metadata": {},
   "outputs": [
    {
     "name": "stdout",
     "output_type": "stream",
     "text": [
      "shape:(569, 30)--->shape:(569, 8)\n"
     ]
    },
    {
     "data": {
      "image/png": "[encoded data removed]",
      "text/plain": [
       "<Figure size 1152x144 with 1 Axes>"
      ]
     },
     "metadata": {},
     "output_type": "display_data"
    }
   ],
   "source": [
    "from sklearn.ensemble import RandomForestClassifier\n",
    "\n",
    "X, y = load_breast_cancer(return_X_y=True)\n",
    "#基于树模型进行模型选择\n",
    "clf = RandomForestClassifier(n_estimators=100, random_state=10)\n",
    "clf = clf.fit(X, y)\n",
    "\n",
    "# 选择特征重要性为1.2倍均值的特征\n",
    "model = SelectFromModel(clf, threshold='1.2*mean',prefit=True)\n",
    "\n",
    "#返回所选的特征\n",
    "X_trees = model.transform(X)\n",
    "print('shape:{:}--->shape:{:}'.format(X.shape, X_trees.shape))\n",
    "\n",
    "mask = model.get_support()\n",
    "plt.matshow(mask.reshape(1, -1), cmap=plt.cm.Reds)#, aspect='auto')\n",
    "plt.xlabel('Sample index')\n",
    "plt.ylim(-0.5, 0.5)\n",
    "plt.yticks([-0.5, 0.5])\n",
    "plt.show()"
   ]
  }
 ],
 "metadata": {
  "kernelspec": {
   "display_name": "Python 3",
   "language": "python",
   "name": "python3"
  },
  "language_info": {
   "codemirror_mode": {
    "name": "ipython",
    "version": 3
   },
   "file_extension": ".py",
   "mimetype": "text/x-python",
   "name": "python",
   "nbconvert_exporter": "python",
   "pygments_lexer": "ipython3",
   "version": "3.6.6"
  }
 },
 "nbformat": 4,
 "nbformat_minor": 2
}
