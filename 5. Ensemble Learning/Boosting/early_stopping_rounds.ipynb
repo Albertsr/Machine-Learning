{
 "cells": [
  {
   "cell_type": "markdown",
   "metadata": {},
   "source": [
    "#### Author：马肖\n",
    "#### E-Mail：maxiaoscut@aliyun.com\n",
    "#### GitHub：https://github.com/Albertsr"
   ]
  },
  {
   "cell_type": "code",
   "execution_count": 1,
   "metadata": {},
   "outputs": [],
   "source": [
    "import numpy as np\n",
    "import pandas as pd\n",
    "import seaborn as sns\n",
    "from matplotlib import pyplot as plt\n",
    "%matplotlib inline\n",
    "\n",
    "from xgboost import XGBClassifier  \n",
    "from sklearn.datasets import load_breast_cancer \n",
    "from sklearn.model_selection import train_test_split  \n",
    "from sklearn.metrics import accuracy_score  "
   ]
  },
  {
   "cell_type": "markdown",
   "metadata": {},
   "source": [
    "### xgboost的fit方法提供了early_stopping的功能"
   ]
  },
  {
   "cell_type": "markdown",
   "metadata": {},
   "source": [
    "https://xgboost.readthedocs.io/en/latest/python/python_api.html#xgboost.XGBClassifier.fit\n",
    "\n",
    "#### API：fit(X, y, sample_weight=None, eval_set=None, eval_metric=None, early_stopping_rounds=None, verbose=True, xgb_model=None, sample_weight_eval_set=None, callbacks=None)\n",
    "\n",
    "\n",
    "- **参数eval_set：** 设置验证集\n",
    "  - 一个[(X, y)]形式的列表，数据集(X, y)作为验证集;\n",
    "  - eval_set包含n个数据对时，以最后一个数据对validation_n的性能作为验证标准\n",
    "\n",
    "\n",
    "- **参数eval_metric：**设置验证指标\n",
    "  - 模型的评判指标，常见的有\"rmse\"、\"mae\"、\"logloss\"、\"error\"、\"merror\"、\"mlogloss\"、\"auc\"等\n",
    "  - 详情见https://github.com/dmlc/xgboost/blob/master/doc/parameter.rst\n",
    "  - 当设置多个m评判标准时，例如eval_metric=[\"auc\",\"logloss\"]，则以后一个\"logloss\"为准\n",
    "\n",
    "\n",
    "- **参数early_stopping_rounds**\n",
    "  - 若early_stopping_rounds=n,意味着模型性能指标在n轮迭代之内没有改善时,将会early_stop\n",
    "  - early_stop发生后，模型会生成3个额外的属性：best_score、best_iteration、best_ntree_limit，\n",
    "  - best_ntree_limit总是等于best_iteration + 1\n",
    "\n",
    "\n",
    "- **参数verbose：**布尔型参数，决定是否返回模型在验证集上的性能表现"
   ]
  },
  {
   "cell_type": "code",
   "execution_count": 2,
   "metadata": {
    "scrolled": false
   },
   "outputs": [
    {
     "name": "stdout",
     "output_type": "stream",
     "text": [
      "Best_iteration: 47 \n",
      "Best_trees: 48 \n",
      "Best_score: 0.112\n"
     ]
    }
   ],
   "source": [
    "X, y = load_breast_cancer(return_X_y=True)  \n",
    "X_train, X_test, y_train, y_test = train_test_split(X, y, test_size=0.25, random_state=2018) \n",
    "model = XGBClassifier(n_estimators=350, learning_rate=0.25, reg_lambda=1.05, random_state=2018)\n",
    "eval_set = [(X_train, y_train), (X_test, y_test)]  \n",
    "eval_metric = [\"auc\", \"logloss\"]\n",
    "model.fit(X_train, y_train, eval_set=eval_set, eval_metric=eval_metric, early_stopping_rounds=25, verbose=False)  \n",
    "model_best_trees = XGBClassifier(n_estimators=model.best_ntree_limit, random_state=2018)\n",
    "description = \"Best_iteration: {:} \\nBest_trees: {:} \\nBest_score: {:.3f}\" \n",
    "print(description.format(model.best_iteration, model.best_ntree_limit, model.best_score))"
   ]
  },
  {
   "cell_type": "code",
   "execution_count": 3,
   "metadata": {},
   "outputs": [
    {
     "name": "stdout",
     "output_type": "stream",
     "text": [
      "Accuracy_original: 0.951\n",
      "Accuracy_revised: 0.958\n"
     ]
    }
   ],
   "source": [
    "y_pred = model.predict(X_test)  \n",
    "accuracy = accuracy_score(y_test, y_pred)  \n",
    "print(\"Accuracy_original: {:.3f}\".format(accuracy)) \n",
    "\n",
    "model_best_trees.fit(X_train, y_train)\n",
    "y_pred_revised = model_best_trees.predict(X_test)  \n",
    "accuracy = accuracy_score(y_test, y_pred_revised)  \n",
    "print(\"Accuracy_revised: {:.3f}\".format(accuracy)) "
   ]
  },
  {
   "cell_type": "markdown",
   "metadata": {},
   "source": [
    "### model.evals_result()以字典形式存储了模型训练过程中所有验证集上对应的各个性能指标的数值"
   ]
  },
  {
   "cell_type": "code",
   "execution_count": 4,
   "metadata": {
    "scrolled": true
   },
   "outputs": [],
   "source": [
    "evals_result = model.evals_result() \n",
    "assert isinstance(evals_result, dict), 'evals_result为字典格式'"
   ]
  },
  {
   "cell_type": "markdown",
   "metadata": {},
   "source": [
    "### 单个性能指标的数值以列表形式存储，且列表长度等于验证次数，可以设置verbose=True来验证"
   ]
  },
  {
   "cell_type": "code",
   "execution_count": 5,
   "metadata": {},
   "outputs": [
    {
     "name": "stdout",
     "output_type": "stream",
     "text": [
      "验证次数：72\n"
     ]
    }
   ],
   "source": [
    "valid1_logloss = evals_result['validation_1']['logloss']\n",
    "assert isinstance(valid1_logloss, list), 'valid1_logloss为列表格式'\n",
    "print('验证次数：{:}'.format(len(valid1_logloss)))"
   ]
  },
  {
   "cell_type": "code",
   "execution_count": 6,
   "metadata": {
    "scrolled": false
   },
   "outputs": [
    {
     "data": {
      "text/html": [
       "<div>\n",
       "<style scoped>\n",
       "    .dataframe tbody tr th:only-of-type {\n",
       "        vertical-align: middle;\n",
       "    }\n",
       "\n",
       "    .dataframe tbody tr th {\n",
       "        vertical-align: top;\n",
       "    }\n",
       "\n",
       "    .dataframe thead th {\n",
       "        text-align: right;\n",
       "    }\n",
       "</style>\n",
       "<table border=\"1\" class=\"dataframe\">\n",
       "  <thead>\n",
       "    <tr style=\"text-align: right;\">\n",
       "      <th></th>\n",
       "      <th>Train_auc</th>\n",
       "      <th>Test_auc</th>\n",
       "      <th>Train_Logloss</th>\n",
       "      <th>Test_Logloss</th>\n",
       "    </tr>\n",
       "  </thead>\n",
       "  <tbody>\n",
       "    <tr>\n",
       "      <th>0</th>\n",
       "      <td>0.983374</td>\n",
       "      <td>0.949854</td>\n",
       "      <td>0.500370</td>\n",
       "      <td>0.517805</td>\n",
       "    </tr>\n",
       "    <tr>\n",
       "      <th>1</th>\n",
       "      <td>0.985724</td>\n",
       "      <td>0.948710</td>\n",
       "      <td>0.378675</td>\n",
       "      <td>0.413641</td>\n",
       "    </tr>\n",
       "    <tr>\n",
       "      <th>2</th>\n",
       "      <td>0.992065</td>\n",
       "      <td>0.978985</td>\n",
       "      <td>0.294743</td>\n",
       "      <td>0.340636</td>\n",
       "    </tr>\n",
       "    <tr>\n",
       "      <th>3</th>\n",
       "      <td>0.992266</td>\n",
       "      <td>0.977944</td>\n",
       "      <td>0.237454</td>\n",
       "      <td>0.292789</td>\n",
       "    </tr>\n",
       "    <tr>\n",
       "      <th>4</th>\n",
       "      <td>0.995513</td>\n",
       "      <td>0.985539</td>\n",
       "      <td>0.193040</td>\n",
       "      <td>0.253936</td>\n",
       "    </tr>\n",
       "  </tbody>\n",
       "</table>\n",
       "</div>"
      ],
      "text/plain": [
       "   Train_auc  Test_auc  Train_Logloss  Test_Logloss\n",
       "0   0.983374  0.949854       0.500370      0.517805\n",
       "1   0.985724  0.948710       0.378675      0.413641\n",
       "2   0.992065  0.978985       0.294743      0.340636\n",
       "3   0.992266  0.977944       0.237454      0.292789\n",
       "4   0.995513  0.985539       0.193040      0.253936"
      ]
     },
     "execution_count": 6,
     "metadata": {},
     "output_type": "execute_result"
    }
   ],
   "source": [
    "train_auc = evals_result['validation_0']['auc']\n",
    "train_logloss = evals_result['validation_0']['logloss']\n",
    "\n",
    "test_auc = evals_result['validation_1']['auc']\n",
    "test_logloss = evals_result['validation_1']['logloss']\n",
    "\n",
    "evals_dict = {'Train_auc':train_auc, 'Test_auc':test_auc, 'Train_Logloss':train_logloss, 'Test_Logloss':test_logloss}\n",
    "metrics_result = pd.DataFrame(evals_dict)\n",
    "metrics_result.head()"
   ]
  },
  {
   "cell_type": "markdown",
   "metadata": {},
   "source": [
    "#### 将模型在[(X_train, y_train), (X_test, y_test)]上的性能表现随着迭代轮数的趋势可视化  "
   ]
  },
  {
   "cell_type": "code",
   "execution_count": 7,
   "metadata": {
    "scrolled": false
   },
   "outputs": [
    {
     "data": {
      "image/png": "[encoded data removed]",
      "text/plain": [
       "<Figure size 864x324 with 2 Axes>"
      ]
     },
     "metadata": {},
     "output_type": "display_data"
    }
   ],
   "source": [
    "sns.set(font_scale=1.0, style='ticks', palette='summer') \n",
    "f, axes = plt.subplots(1, 2, figsize=(12, 4.5))\n",
    "\n",
    "x = metrics_result.index\n",
    "[y1, y2, y3, y4] = [metrics_result[i] for i in metrics_result.columns]\n",
    "\n",
    "sns.lineplot(x, y1, ax=axes[0], color='navy', linestyle='--', label='Train AUC') \n",
    "sns.lineplot(x, y2, ax=axes[0], color=\"r\", label='Test AUC')\n",
    "sns.lineplot(x, y3, ax=axes[1], color='navy', label='Train Logloss')\n",
    "sns.lineplot(x, y4, ax=axes[1], color=\"r\", label='Test Logloss')\n",
    "\n",
    "# 构建start=0, stop=tick_end, step=10的等差数列，作为x轴的坐标\n",
    "tick_end = metrics_result.shape[0]\n",
    "ticks = np.arange(0, tick_end, 10)\n",
    "\n",
    "# 设置图像的轴标签\n",
    "for i in [0, 1]: \n",
    "    if i == 0:\n",
    "        axes[i].set_ylabel('AUC',fontsize=12)\n",
    "        axes[i].set_xlabel('Rounds', fontsize=12)\n",
    "    else:\n",
    "        axes[i].set_ylabel('Logloss', fontsize=12)\n",
    "        axes[i].set_xlabel('Rounds', fontsize=12)\n",
    "    \n",
    "    axes[i].set_xticks(ticks)\n",
    "    sns.despine()"
   ]
  }
 ],
 "metadata": {
  "kernelspec": {
   "display_name": "Python 3",
   "language": "python",
   "name": "python3"
  },
  "language_info": {
   "codemirror_mode": {
    "name": "ipython",
    "version": 3
   },
   "file_extension": ".py",
   "mimetype": "text/x-python",
   "name": "python",
   "nbconvert_exporter": "python",
   "pygments_lexer": "ipython3",
   "version": "3.7.1"
  }
 },
 "nbformat": 4,
 "nbformat_minor": 2
}
